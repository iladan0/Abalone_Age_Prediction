{
  "nbformat": 4,
  "nbformat_minor": 0,
  "metadata": {
    "colab": {
      "name": "Copie de Optim_Project.ipynb",
      "provenance": [],
      "toc_visible": true
    },
    "kernelspec": {
      "name": "python3",
      "display_name": "Python 3"
    },
    "language_info": {
      "name": "python"
    }
  },
  "cells": [
    {
      "cell_type": "markdown",
      "source": [
        "**Student BENREKIA Mohamed Ali (IASD 2021-2022)**"
      ],
      "metadata": {
        "id": "N-pEkX5tSYNK"
      }
    },
    {
      "cell_type": "code",
      "execution_count": null,
      "metadata": {
        "id": "5BzdDRThfWwp",
        "colab": {
          "base_uri": "https://localhost:8080/"
        },
        "outputId": "c864f739-7d66-489c-e79c-075bd650353e"
      },
      "outputs": [
        {
          "output_type": "stream",
          "name": "stdout",
          "text": [
            "The autoreload extension is already loaded. To reload it, use:\n",
            "  %reload_ext autoreload\n"
          ]
        }
      ],
      "source": [
        "%matplotlib inline\n",
        "import numpy as np\n",
        "from scipy.linalg import norm \n",
        "\n",
        "\n",
        "import matplotlib.pyplot as plt\n",
        "import seaborn as sns\n",
        "%load_ext autoreload\n",
        "%autoreload 2"
      ]
    },
    {
      "cell_type": "markdown",
      "source": [
        "# Loading data"
      ],
      "metadata": {
        "id": "sY4ah8TLLr5d"
      }
    },
    {
      "cell_type": "code",
      "source": [
        "!wget https://raw.githubusercontent.com/nishitpatel01/predicting-age-of-abalone-using-regression/master/Abalone_data.csv"
      ],
      "metadata": {
        "id": "c5gFJs7QpULU"
      },
      "execution_count": null,
      "outputs": []
    },
    {
      "cell_type": "code",
      "source": [
        "# Use this code to read from a CSV file.\n",
        "import pandas as pd\n",
        "U = pd.read_csv('/content/Abalone_data.csv')"
      ],
      "metadata": {
        "id": "b2c6lUotLufw"
      },
      "execution_count": null,
      "outputs": []
    },
    {
      "cell_type": "code",
      "source": [
        "U.shape"
      ],
      "metadata": {
        "colab": {
          "base_uri": "https://localhost:8080/"
        },
        "id": "mt4zXBejUzB5",
        "outputId": "9f166634-905a-42b4-ee33-0c9bdf629c42"
      },
      "execution_count": null,
      "outputs": [
        {
          "output_type": "execute_result",
          "data": {
            "text/plain": [
              "(4176, 9)"
            ]
          },
          "metadata": {},
          "execution_count": 27
        }
      ]
    },
    {
      "cell_type": "code",
      "source": [
        "U.info()"
      ],
      "metadata": {
        "colab": {
          "base_uri": "https://localhost:8080/"
        },
        "id": "UGtGOK5EU0bO",
        "outputId": "3f2c576f-2d33-4603-94bb-b5d7d845e17e"
      },
      "execution_count": null,
      "outputs": [
        {
          "output_type": "stream",
          "name": "stdout",
          "text": [
            "<class 'pandas.core.frame.DataFrame'>\n",
            "RangeIndex: 4176 entries, 0 to 4175\n",
            "Data columns (total 9 columns):\n",
            " #   Column          Non-Null Count  Dtype  \n",
            "---  ------          --------------  -----  \n",
            " 0   Sex             4176 non-null   object \n",
            " 1   Length          4176 non-null   int64  \n",
            " 2   Diameter        4176 non-null   int64  \n",
            " 3   Height          4176 non-null   int64  \n",
            " 4   Whole_weight    4176 non-null   float64\n",
            " 5   Shucked_weight  4176 non-null   float64\n",
            " 6   Viscera_weight  4176 non-null   float64\n",
            " 7   Shell_weight    4176 non-null   float64\n",
            " 8   Rings           4176 non-null   int64  \n",
            "dtypes: float64(4), int64(4), object(1)\n",
            "memory usage: 293.8+ KB\n"
          ]
        }
      ]
    },
    {
      "cell_type": "code",
      "source": [
        "U.head()"
      ],
      "metadata": {
        "colab": {
          "base_uri": "https://localhost:8080/",
          "height": 206
        },
        "id": "7hPGCaCKU4IM",
        "outputId": "7be1b686-68b2-4639-cedf-43a661188193"
      },
      "execution_count": null,
      "outputs": [
        {
          "output_type": "execute_result",
          "data": {
            "text/html": [
              "\n",
              "  <div id=\"df-e4f6ac36-dd2a-4ecf-b980-5356bd694fb8\">\n",
              "    <div class=\"colab-df-container\">\n",
              "      <div>\n",
              "<style scoped>\n",
              "    .dataframe tbody tr th:only-of-type {\n",
              "        vertical-align: middle;\n",
              "    }\n",
              "\n",
              "    .dataframe tbody tr th {\n",
              "        vertical-align: top;\n",
              "    }\n",
              "\n",
              "    .dataframe thead th {\n",
              "        text-align: right;\n",
              "    }\n",
              "</style>\n",
              "<table border=\"1\" class=\"dataframe\">\n",
              "  <thead>\n",
              "    <tr style=\"text-align: right;\">\n",
              "      <th></th>\n",
              "      <th>Sex</th>\n",
              "      <th>Length</th>\n",
              "      <th>Diameter</th>\n",
              "      <th>Height</th>\n",
              "      <th>Whole_weight</th>\n",
              "      <th>Shucked_weight</th>\n",
              "      <th>Viscera_weight</th>\n",
              "      <th>Shell_weight</th>\n",
              "      <th>Rings</th>\n",
              "    </tr>\n",
              "  </thead>\n",
              "  <tbody>\n",
              "    <tr>\n",
              "      <th>0</th>\n",
              "      <td>M</td>\n",
              "      <td>70</td>\n",
              "      <td>53</td>\n",
              "      <td>18</td>\n",
              "      <td>45.1</td>\n",
              "      <td>19.9</td>\n",
              "      <td>9.7</td>\n",
              "      <td>14.0</td>\n",
              "      <td>7</td>\n",
              "    </tr>\n",
              "    <tr>\n",
              "      <th>1</th>\n",
              "      <td>F</td>\n",
              "      <td>106</td>\n",
              "      <td>84</td>\n",
              "      <td>27</td>\n",
              "      <td>135.4</td>\n",
              "      <td>51.3</td>\n",
              "      <td>28.3</td>\n",
              "      <td>42.0</td>\n",
              "      <td>9</td>\n",
              "    </tr>\n",
              "    <tr>\n",
              "      <th>2</th>\n",
              "      <td>M</td>\n",
              "      <td>88</td>\n",
              "      <td>73</td>\n",
              "      <td>25</td>\n",
              "      <td>103.2</td>\n",
              "      <td>43.1</td>\n",
              "      <td>22.8</td>\n",
              "      <td>31.0</td>\n",
              "      <td>10</td>\n",
              "    </tr>\n",
              "    <tr>\n",
              "      <th>3</th>\n",
              "      <td>I</td>\n",
              "      <td>66</td>\n",
              "      <td>51</td>\n",
              "      <td>16</td>\n",
              "      <td>41.0</td>\n",
              "      <td>17.9</td>\n",
              "      <td>7.9</td>\n",
              "      <td>11.0</td>\n",
              "      <td>7</td>\n",
              "    </tr>\n",
              "    <tr>\n",
              "      <th>4</th>\n",
              "      <td>I</td>\n",
              "      <td>85</td>\n",
              "      <td>60</td>\n",
              "      <td>19</td>\n",
              "      <td>70.3</td>\n",
              "      <td>28.2</td>\n",
              "      <td>15.5</td>\n",
              "      <td>24.0</td>\n",
              "      <td>8</td>\n",
              "    </tr>\n",
              "  </tbody>\n",
              "</table>\n",
              "</div>\n",
              "      <button class=\"colab-df-convert\" onclick=\"convertToInteractive('df-e4f6ac36-dd2a-4ecf-b980-5356bd694fb8')\"\n",
              "              title=\"Convert this dataframe to an interactive table.\"\n",
              "              style=\"display:none;\">\n",
              "        \n",
              "  <svg xmlns=\"http://www.w3.org/2000/svg\" height=\"24px\"viewBox=\"0 0 24 24\"\n",
              "       width=\"24px\">\n",
              "    <path d=\"M0 0h24v24H0V0z\" fill=\"none\"/>\n",
              "    <path d=\"M18.56 5.44l.94 2.06.94-2.06 2.06-.94-2.06-.94-.94-2.06-.94 2.06-2.06.94zm-11 1L8.5 8.5l.94-2.06 2.06-.94-2.06-.94L8.5 2.5l-.94 2.06-2.06.94zm10 10l.94 2.06.94-2.06 2.06-.94-2.06-.94-.94-2.06-.94 2.06-2.06.94z\"/><path d=\"M17.41 7.96l-1.37-1.37c-.4-.4-.92-.59-1.43-.59-.52 0-1.04.2-1.43.59L10.3 9.45l-7.72 7.72c-.78.78-.78 2.05 0 2.83L4 21.41c.39.39.9.59 1.41.59.51 0 1.02-.2 1.41-.59l7.78-7.78 2.81-2.81c.8-.78.8-2.07 0-2.86zM5.41 20L4 18.59l7.72-7.72 1.47 1.35L5.41 20z\"/>\n",
              "  </svg>\n",
              "      </button>\n",
              "      \n",
              "  <style>\n",
              "    .colab-df-container {\n",
              "      display:flex;\n",
              "      flex-wrap:wrap;\n",
              "      gap: 12px;\n",
              "    }\n",
              "\n",
              "    .colab-df-convert {\n",
              "      background-color: #E8F0FE;\n",
              "      border: none;\n",
              "      border-radius: 50%;\n",
              "      cursor: pointer;\n",
              "      display: none;\n",
              "      fill: #1967D2;\n",
              "      height: 32px;\n",
              "      padding: 0 0 0 0;\n",
              "      width: 32px;\n",
              "    }\n",
              "\n",
              "    .colab-df-convert:hover {\n",
              "      background-color: #E2EBFA;\n",
              "      box-shadow: 0px 1px 2px rgba(60, 64, 67, 0.3), 0px 1px 3px 1px rgba(60, 64, 67, 0.15);\n",
              "      fill: #174EA6;\n",
              "    }\n",
              "\n",
              "    [theme=dark] .colab-df-convert {\n",
              "      background-color: #3B4455;\n",
              "      fill: #D2E3FC;\n",
              "    }\n",
              "\n",
              "    [theme=dark] .colab-df-convert:hover {\n",
              "      background-color: #434B5C;\n",
              "      box-shadow: 0px 1px 3px 1px rgba(0, 0, 0, 0.15);\n",
              "      filter: drop-shadow(0px 1px 2px rgba(0, 0, 0, 0.3));\n",
              "      fill: #FFFFFF;\n",
              "    }\n",
              "  </style>\n",
              "\n",
              "      <script>\n",
              "        const buttonEl =\n",
              "          document.querySelector('#df-e4f6ac36-dd2a-4ecf-b980-5356bd694fb8 button.colab-df-convert');\n",
              "        buttonEl.style.display =\n",
              "          google.colab.kernel.accessAllowed ? 'block' : 'none';\n",
              "\n",
              "        async function convertToInteractive(key) {\n",
              "          const element = document.querySelector('#df-e4f6ac36-dd2a-4ecf-b980-5356bd694fb8');\n",
              "          const dataTable =\n",
              "            await google.colab.kernel.invokeFunction('convertToInteractive',\n",
              "                                                     [key], {});\n",
              "          if (!dataTable) return;\n",
              "\n",
              "          const docLinkHtml = 'Like what you see? Visit the ' +\n",
              "            '<a target=\"_blank\" href=https://colab.research.google.com/notebooks/data_table.ipynb>data table notebook</a>'\n",
              "            + ' to learn more about interactive tables.';\n",
              "          element.innerHTML = '';\n",
              "          dataTable['output_type'] = 'display_data';\n",
              "          await google.colab.output.renderOutput(dataTable, element);\n",
              "          const docLink = document.createElement('div');\n",
              "          docLink.innerHTML = docLinkHtml;\n",
              "          element.appendChild(docLink);\n",
              "        }\n",
              "      </script>\n",
              "    </div>\n",
              "  </div>\n",
              "  "
            ],
            "text/plain": [
              "  Sex  Length  Diameter  ...  Viscera_weight  Shell_weight  Rings\n",
              "0   M      70        53  ...             9.7          14.0      7\n",
              "1   F     106        84  ...            28.3          42.0      9\n",
              "2   M      88        73  ...            22.8          31.0     10\n",
              "3   I      66        51  ...             7.9          11.0      7\n",
              "4   I      85        60  ...            15.5          24.0      8\n",
              "\n",
              "[5 rows x 9 columns]"
            ]
          },
          "metadata": {},
          "execution_count": 29
        }
      ]
    },
    {
      "cell_type": "code",
      "source": [
        "U.tail()"
      ],
      "metadata": {
        "colab": {
          "base_uri": "https://localhost:8080/",
          "height": 206
        },
        "id": "5hCKJvOUU7Nd",
        "outputId": "36b5d641-a546-485e-a7bd-78af34ec6d7a"
      },
      "execution_count": null,
      "outputs": [
        {
          "output_type": "execute_result",
          "data": {
            "text/html": [
              "\n",
              "  <div id=\"df-f20b7256-3368-4515-ab7e-c6defaa3082e\">\n",
              "    <div class=\"colab-df-container\">\n",
              "      <div>\n",
              "<style scoped>\n",
              "    .dataframe tbody tr th:only-of-type {\n",
              "        vertical-align: middle;\n",
              "    }\n",
              "\n",
              "    .dataframe tbody tr th {\n",
              "        vertical-align: top;\n",
              "    }\n",
              "\n",
              "    .dataframe thead th {\n",
              "        text-align: right;\n",
              "    }\n",
              "</style>\n",
              "<table border=\"1\" class=\"dataframe\">\n",
              "  <thead>\n",
              "    <tr style=\"text-align: right;\">\n",
              "      <th></th>\n",
              "      <th>Sex</th>\n",
              "      <th>Length</th>\n",
              "      <th>Diameter</th>\n",
              "      <th>Height</th>\n",
              "      <th>Whole_weight</th>\n",
              "      <th>Shucked_weight</th>\n",
              "      <th>Viscera_weight</th>\n",
              "      <th>Shell_weight</th>\n",
              "      <th>Rings</th>\n",
              "    </tr>\n",
              "  </thead>\n",
              "  <tbody>\n",
              "    <tr>\n",
              "      <th>4171</th>\n",
              "      <td>F</td>\n",
              "      <td>113</td>\n",
              "      <td>90</td>\n",
              "      <td>33</td>\n",
              "      <td>177.4</td>\n",
              "      <td>74.0</td>\n",
              "      <td>47.8</td>\n",
              "      <td>49.8</td>\n",
              "      <td>11</td>\n",
              "    </tr>\n",
              "    <tr>\n",
              "      <th>4172</th>\n",
              "      <td>M</td>\n",
              "      <td>118</td>\n",
              "      <td>88</td>\n",
              "      <td>27</td>\n",
              "      <td>193.2</td>\n",
              "      <td>87.8</td>\n",
              "      <td>42.9</td>\n",
              "      <td>52.1</td>\n",
              "      <td>10</td>\n",
              "    </tr>\n",
              "    <tr>\n",
              "      <th>4173</th>\n",
              "      <td>M</td>\n",
              "      <td>120</td>\n",
              "      <td>95</td>\n",
              "      <td>41</td>\n",
              "      <td>235.2</td>\n",
              "      <td>105.1</td>\n",
              "      <td>57.5</td>\n",
              "      <td>61.6</td>\n",
              "      <td>9</td>\n",
              "    </tr>\n",
              "    <tr>\n",
              "      <th>4174</th>\n",
              "      <td>F</td>\n",
              "      <td>125</td>\n",
              "      <td>97</td>\n",
              "      <td>30</td>\n",
              "      <td>218.9</td>\n",
              "      <td>106.2</td>\n",
              "      <td>52.2</td>\n",
              "      <td>59.2</td>\n",
              "      <td>10</td>\n",
              "    </tr>\n",
              "    <tr>\n",
              "      <th>4175</th>\n",
              "      <td>M</td>\n",
              "      <td>142</td>\n",
              "      <td>111</td>\n",
              "      <td>39</td>\n",
              "      <td>389.7</td>\n",
              "      <td>189.1</td>\n",
              "      <td>75.3</td>\n",
              "      <td>99.0</td>\n",
              "      <td>12</td>\n",
              "    </tr>\n",
              "  </tbody>\n",
              "</table>\n",
              "</div>\n",
              "      <button class=\"colab-df-convert\" onclick=\"convertToInteractive('df-f20b7256-3368-4515-ab7e-c6defaa3082e')\"\n",
              "              title=\"Convert this dataframe to an interactive table.\"\n",
              "              style=\"display:none;\">\n",
              "        \n",
              "  <svg xmlns=\"http://www.w3.org/2000/svg\" height=\"24px\"viewBox=\"0 0 24 24\"\n",
              "       width=\"24px\">\n",
              "    <path d=\"M0 0h24v24H0V0z\" fill=\"none\"/>\n",
              "    <path d=\"M18.56 5.44l.94 2.06.94-2.06 2.06-.94-2.06-.94-.94-2.06-.94 2.06-2.06.94zm-11 1L8.5 8.5l.94-2.06 2.06-.94-2.06-.94L8.5 2.5l-.94 2.06-2.06.94zm10 10l.94 2.06.94-2.06 2.06-.94-2.06-.94-.94-2.06-.94 2.06-2.06.94z\"/><path d=\"M17.41 7.96l-1.37-1.37c-.4-.4-.92-.59-1.43-.59-.52 0-1.04.2-1.43.59L10.3 9.45l-7.72 7.72c-.78.78-.78 2.05 0 2.83L4 21.41c.39.39.9.59 1.41.59.51 0 1.02-.2 1.41-.59l7.78-7.78 2.81-2.81c.8-.78.8-2.07 0-2.86zM5.41 20L4 18.59l7.72-7.72 1.47 1.35L5.41 20z\"/>\n",
              "  </svg>\n",
              "      </button>\n",
              "      \n",
              "  <style>\n",
              "    .colab-df-container {\n",
              "      display:flex;\n",
              "      flex-wrap:wrap;\n",
              "      gap: 12px;\n",
              "    }\n",
              "\n",
              "    .colab-df-convert {\n",
              "      background-color: #E8F0FE;\n",
              "      border: none;\n",
              "      border-radius: 50%;\n",
              "      cursor: pointer;\n",
              "      display: none;\n",
              "      fill: #1967D2;\n",
              "      height: 32px;\n",
              "      padding: 0 0 0 0;\n",
              "      width: 32px;\n",
              "    }\n",
              "\n",
              "    .colab-df-convert:hover {\n",
              "      background-color: #E2EBFA;\n",
              "      box-shadow: 0px 1px 2px rgba(60, 64, 67, 0.3), 0px 1px 3px 1px rgba(60, 64, 67, 0.15);\n",
              "      fill: #174EA6;\n",
              "    }\n",
              "\n",
              "    [theme=dark] .colab-df-convert {\n",
              "      background-color: #3B4455;\n",
              "      fill: #D2E3FC;\n",
              "    }\n",
              "\n",
              "    [theme=dark] .colab-df-convert:hover {\n",
              "      background-color: #434B5C;\n",
              "      box-shadow: 0px 1px 3px 1px rgba(0, 0, 0, 0.15);\n",
              "      filter: drop-shadow(0px 1px 2px rgba(0, 0, 0, 0.3));\n",
              "      fill: #FFFFFF;\n",
              "    }\n",
              "  </style>\n",
              "\n",
              "      <script>\n",
              "        const buttonEl =\n",
              "          document.querySelector('#df-f20b7256-3368-4515-ab7e-c6defaa3082e button.colab-df-convert');\n",
              "        buttonEl.style.display =\n",
              "          google.colab.kernel.accessAllowed ? 'block' : 'none';\n",
              "\n",
              "        async function convertToInteractive(key) {\n",
              "          const element = document.querySelector('#df-f20b7256-3368-4515-ab7e-c6defaa3082e');\n",
              "          const dataTable =\n",
              "            await google.colab.kernel.invokeFunction('convertToInteractive',\n",
              "                                                     [key], {});\n",
              "          if (!dataTable) return;\n",
              "\n",
              "          const docLinkHtml = 'Like what you see? Visit the ' +\n",
              "            '<a target=\"_blank\" href=https://colab.research.google.com/notebooks/data_table.ipynb>data table notebook</a>'\n",
              "            + ' to learn more about interactive tables.';\n",
              "          element.innerHTML = '';\n",
              "          dataTable['output_type'] = 'display_data';\n",
              "          await google.colab.output.renderOutput(dataTable, element);\n",
              "          const docLink = document.createElement('div');\n",
              "          docLink.innerHTML = docLinkHtml;\n",
              "          element.appendChild(docLink);\n",
              "        }\n",
              "      </script>\n",
              "    </div>\n",
              "  </div>\n",
              "  "
            ],
            "text/plain": [
              "     Sex  Length  Diameter  ...  Viscera_weight  Shell_weight  Rings\n",
              "4171   F     113        90  ...            47.8          49.8     11\n",
              "4172   M     118        88  ...            42.9          52.1     10\n",
              "4173   M     120        95  ...            57.5          61.6      9\n",
              "4174   F     125        97  ...            52.2          59.2     10\n",
              "4175   M     142       111  ...            75.3          99.0     12\n",
              "\n",
              "[5 rows x 9 columns]"
            ]
          },
          "metadata": {},
          "execution_count": 30
        }
      ]
    },
    {
      "cell_type": "code",
      "source": [
        "U.Sex=U.Sex.astype('category').cat.codes\n",
        "U.head()"
      ],
      "metadata": {
        "colab": {
          "base_uri": "https://localhost:8080/",
          "height": 206
        },
        "id": "TIR3IW60U-_H",
        "outputId": "acab693c-32aa-48be-d544-3d1073411561"
      },
      "execution_count": null,
      "outputs": [
        {
          "output_type": "execute_result",
          "data": {
            "text/html": [
              "\n",
              "  <div id=\"df-09ad4df5-feac-4c73-813d-c0e7e8a28419\">\n",
              "    <div class=\"colab-df-container\">\n",
              "      <div>\n",
              "<style scoped>\n",
              "    .dataframe tbody tr th:only-of-type {\n",
              "        vertical-align: middle;\n",
              "    }\n",
              "\n",
              "    .dataframe tbody tr th {\n",
              "        vertical-align: top;\n",
              "    }\n",
              "\n",
              "    .dataframe thead th {\n",
              "        text-align: right;\n",
              "    }\n",
              "</style>\n",
              "<table border=\"1\" class=\"dataframe\">\n",
              "  <thead>\n",
              "    <tr style=\"text-align: right;\">\n",
              "      <th></th>\n",
              "      <th>Sex</th>\n",
              "      <th>Length</th>\n",
              "      <th>Diameter</th>\n",
              "      <th>Height</th>\n",
              "      <th>Whole_weight</th>\n",
              "      <th>Shucked_weight</th>\n",
              "      <th>Viscera_weight</th>\n",
              "      <th>Shell_weight</th>\n",
              "      <th>Rings</th>\n",
              "    </tr>\n",
              "  </thead>\n",
              "  <tbody>\n",
              "    <tr>\n",
              "      <th>0</th>\n",
              "      <td>2</td>\n",
              "      <td>70</td>\n",
              "      <td>53</td>\n",
              "      <td>18</td>\n",
              "      <td>45.1</td>\n",
              "      <td>19.9</td>\n",
              "      <td>9.7</td>\n",
              "      <td>14.0</td>\n",
              "      <td>7</td>\n",
              "    </tr>\n",
              "    <tr>\n",
              "      <th>1</th>\n",
              "      <td>0</td>\n",
              "      <td>106</td>\n",
              "      <td>84</td>\n",
              "      <td>27</td>\n",
              "      <td>135.4</td>\n",
              "      <td>51.3</td>\n",
              "      <td>28.3</td>\n",
              "      <td>42.0</td>\n",
              "      <td>9</td>\n",
              "    </tr>\n",
              "    <tr>\n",
              "      <th>2</th>\n",
              "      <td>2</td>\n",
              "      <td>88</td>\n",
              "      <td>73</td>\n",
              "      <td>25</td>\n",
              "      <td>103.2</td>\n",
              "      <td>43.1</td>\n",
              "      <td>22.8</td>\n",
              "      <td>31.0</td>\n",
              "      <td>10</td>\n",
              "    </tr>\n",
              "    <tr>\n",
              "      <th>3</th>\n",
              "      <td>1</td>\n",
              "      <td>66</td>\n",
              "      <td>51</td>\n",
              "      <td>16</td>\n",
              "      <td>41.0</td>\n",
              "      <td>17.9</td>\n",
              "      <td>7.9</td>\n",
              "      <td>11.0</td>\n",
              "      <td>7</td>\n",
              "    </tr>\n",
              "    <tr>\n",
              "      <th>4</th>\n",
              "      <td>1</td>\n",
              "      <td>85</td>\n",
              "      <td>60</td>\n",
              "      <td>19</td>\n",
              "      <td>70.3</td>\n",
              "      <td>28.2</td>\n",
              "      <td>15.5</td>\n",
              "      <td>24.0</td>\n",
              "      <td>8</td>\n",
              "    </tr>\n",
              "  </tbody>\n",
              "</table>\n",
              "</div>\n",
              "      <button class=\"colab-df-convert\" onclick=\"convertToInteractive('df-09ad4df5-feac-4c73-813d-c0e7e8a28419')\"\n",
              "              title=\"Convert this dataframe to an interactive table.\"\n",
              "              style=\"display:none;\">\n",
              "        \n",
              "  <svg xmlns=\"http://www.w3.org/2000/svg\" height=\"24px\"viewBox=\"0 0 24 24\"\n",
              "       width=\"24px\">\n",
              "    <path d=\"M0 0h24v24H0V0z\" fill=\"none\"/>\n",
              "    <path d=\"M18.56 5.44l.94 2.06.94-2.06 2.06-.94-2.06-.94-.94-2.06-.94 2.06-2.06.94zm-11 1L8.5 8.5l.94-2.06 2.06-.94-2.06-.94L8.5 2.5l-.94 2.06-2.06.94zm10 10l.94 2.06.94-2.06 2.06-.94-2.06-.94-.94-2.06-.94 2.06-2.06.94z\"/><path d=\"M17.41 7.96l-1.37-1.37c-.4-.4-.92-.59-1.43-.59-.52 0-1.04.2-1.43.59L10.3 9.45l-7.72 7.72c-.78.78-.78 2.05 0 2.83L4 21.41c.39.39.9.59 1.41.59.51 0 1.02-.2 1.41-.59l7.78-7.78 2.81-2.81c.8-.78.8-2.07 0-2.86zM5.41 20L4 18.59l7.72-7.72 1.47 1.35L5.41 20z\"/>\n",
              "  </svg>\n",
              "      </button>\n",
              "      \n",
              "  <style>\n",
              "    .colab-df-container {\n",
              "      display:flex;\n",
              "      flex-wrap:wrap;\n",
              "      gap: 12px;\n",
              "    }\n",
              "\n",
              "    .colab-df-convert {\n",
              "      background-color: #E8F0FE;\n",
              "      border: none;\n",
              "      border-radius: 50%;\n",
              "      cursor: pointer;\n",
              "      display: none;\n",
              "      fill: #1967D2;\n",
              "      height: 32px;\n",
              "      padding: 0 0 0 0;\n",
              "      width: 32px;\n",
              "    }\n",
              "\n",
              "    .colab-df-convert:hover {\n",
              "      background-color: #E2EBFA;\n",
              "      box-shadow: 0px 1px 2px rgba(60, 64, 67, 0.3), 0px 1px 3px 1px rgba(60, 64, 67, 0.15);\n",
              "      fill: #174EA6;\n",
              "    }\n",
              "\n",
              "    [theme=dark] .colab-df-convert {\n",
              "      background-color: #3B4455;\n",
              "      fill: #D2E3FC;\n",
              "    }\n",
              "\n",
              "    [theme=dark] .colab-df-convert:hover {\n",
              "      background-color: #434B5C;\n",
              "      box-shadow: 0px 1px 3px 1px rgba(0, 0, 0, 0.15);\n",
              "      filter: drop-shadow(0px 1px 2px rgba(0, 0, 0, 0.3));\n",
              "      fill: #FFFFFF;\n",
              "    }\n",
              "  </style>\n",
              "\n",
              "      <script>\n",
              "        const buttonEl =\n",
              "          document.querySelector('#df-09ad4df5-feac-4c73-813d-c0e7e8a28419 button.colab-df-convert');\n",
              "        buttonEl.style.display =\n",
              "          google.colab.kernel.accessAllowed ? 'block' : 'none';\n",
              "\n",
              "        async function convertToInteractive(key) {\n",
              "          const element = document.querySelector('#df-09ad4df5-feac-4c73-813d-c0e7e8a28419');\n",
              "          const dataTable =\n",
              "            await google.colab.kernel.invokeFunction('convertToInteractive',\n",
              "                                                     [key], {});\n",
              "          if (!dataTable) return;\n",
              "\n",
              "          const docLinkHtml = 'Like what you see? Visit the ' +\n",
              "            '<a target=\"_blank\" href=https://colab.research.google.com/notebooks/data_table.ipynb>data table notebook</a>'\n",
              "            + ' to learn more about interactive tables.';\n",
              "          element.innerHTML = '';\n",
              "          dataTable['output_type'] = 'display_data';\n",
              "          await google.colab.output.renderOutput(dataTable, element);\n",
              "          const docLink = document.createElement('div');\n",
              "          docLink.innerHTML = docLinkHtml;\n",
              "          element.appendChild(docLink);\n",
              "        }\n",
              "      </script>\n",
              "    </div>\n",
              "  </div>\n",
              "  "
            ],
            "text/plain": [
              "   Sex  Length  Diameter  ...  Viscera_weight  Shell_weight  Rings\n",
              "0    2      70        53  ...             9.7          14.0      7\n",
              "1    0     106        84  ...            28.3          42.0      9\n",
              "2    2      88        73  ...            22.8          31.0     10\n",
              "3    1      66        51  ...             7.9          11.0      7\n",
              "4    1      85        60  ...            15.5          24.0      8\n",
              "\n",
              "[5 rows x 9 columns]"
            ]
          },
          "metadata": {},
          "execution_count": 31
        }
      ]
    },
    {
      "cell_type": "code",
      "source": [
        "U.describe(include='all')"
      ],
      "metadata": {
        "colab": {
          "base_uri": "https://localhost:8080/",
          "height": 364
        },
        "id": "67Xs9Wf0VRez",
        "outputId": "d822eae6-e490-48e7-f314-a39ddbe930c5"
      },
      "execution_count": null,
      "outputs": [
        {
          "output_type": "execute_result",
          "data": {
            "text/html": [
              "\n",
              "  <div id=\"df-0259c012-e359-4f47-9940-ec1838ed181c\">\n",
              "    <div class=\"colab-df-container\">\n",
              "      <div>\n",
              "<style scoped>\n",
              "    .dataframe tbody tr th:only-of-type {\n",
              "        vertical-align: middle;\n",
              "    }\n",
              "\n",
              "    .dataframe tbody tr th {\n",
              "        vertical-align: top;\n",
              "    }\n",
              "\n",
              "    .dataframe thead th {\n",
              "        text-align: right;\n",
              "    }\n",
              "</style>\n",
              "<table border=\"1\" class=\"dataframe\">\n",
              "  <thead>\n",
              "    <tr style=\"text-align: right;\">\n",
              "      <th></th>\n",
              "      <th>Sex</th>\n",
              "      <th>Length</th>\n",
              "      <th>Diameter</th>\n",
              "      <th>Height</th>\n",
              "      <th>Whole_weight</th>\n",
              "      <th>Shucked_weight</th>\n",
              "      <th>Viscera_weight</th>\n",
              "      <th>Shell_weight</th>\n",
              "      <th>Rings</th>\n",
              "    </tr>\n",
              "  </thead>\n",
              "  <tbody>\n",
              "    <tr>\n",
              "      <th>count</th>\n",
              "      <td>4176.000000</td>\n",
              "      <td>4176.000000</td>\n",
              "      <td>4176.000000</td>\n",
              "      <td>4176.000000</td>\n",
              "      <td>4176.000000</td>\n",
              "      <td>4176.000000</td>\n",
              "      <td>4176.000000</td>\n",
              "      <td>4176.000000</td>\n",
              "      <td>4176.000000</td>\n",
              "    </tr>\n",
              "    <tr>\n",
              "      <th>mean</th>\n",
              "      <td>1.052682</td>\n",
              "      <td>104.801724</td>\n",
              "      <td>81.578305</td>\n",
              "      <td>27.905412</td>\n",
              "      <td>165.763506</td>\n",
              "      <td>71.879957</td>\n",
              "      <td>36.122534</td>\n",
              "      <td>47.770426</td>\n",
              "      <td>9.932471</td>\n",
              "    </tr>\n",
              "    <tr>\n",
              "      <th>std</th>\n",
              "      <td>0.822208</td>\n",
              "      <td>24.020509</td>\n",
              "      <td>19.849906</td>\n",
              "      <td>8.365278</td>\n",
              "      <td>98.084710</td>\n",
              "      <td>44.395943</td>\n",
              "      <td>21.924091</td>\n",
              "      <td>27.842510</td>\n",
              "      <td>3.223601</td>\n",
              "    </tr>\n",
              "    <tr>\n",
              "      <th>min</th>\n",
              "      <td>0.000000</td>\n",
              "      <td>15.000000</td>\n",
              "      <td>11.000000</td>\n",
              "      <td>0.000000</td>\n",
              "      <td>0.400000</td>\n",
              "      <td>0.200000</td>\n",
              "      <td>0.100000</td>\n",
              "      <td>0.300000</td>\n",
              "      <td>1.000000</td>\n",
              "    </tr>\n",
              "    <tr>\n",
              "      <th>25%</th>\n",
              "      <td>0.000000</td>\n",
              "      <td>90.000000</td>\n",
              "      <td>70.000000</td>\n",
              "      <td>23.000000</td>\n",
              "      <td>88.300000</td>\n",
              "      <td>37.200000</td>\n",
              "      <td>18.675000</td>\n",
              "      <td>26.000000</td>\n",
              "      <td>8.000000</td>\n",
              "    </tr>\n",
              "    <tr>\n",
              "      <th>50%</th>\n",
              "      <td>1.000000</td>\n",
              "      <td>109.000000</td>\n",
              "      <td>85.000000</td>\n",
              "      <td>28.000000</td>\n",
              "      <td>159.950000</td>\n",
              "      <td>67.200000</td>\n",
              "      <td>34.200000</td>\n",
              "      <td>46.800000</td>\n",
              "      <td>9.000000</td>\n",
              "    </tr>\n",
              "    <tr>\n",
              "      <th>75%</th>\n",
              "      <td>2.000000</td>\n",
              "      <td>123.000000</td>\n",
              "      <td>96.000000</td>\n",
              "      <td>33.000000</td>\n",
              "      <td>230.650000</td>\n",
              "      <td>100.400000</td>\n",
              "      <td>50.600000</td>\n",
              "      <td>65.800000</td>\n",
              "      <td>11.000000</td>\n",
              "    </tr>\n",
              "    <tr>\n",
              "      <th>max</th>\n",
              "      <td>2.000000</td>\n",
              "      <td>163.000000</td>\n",
              "      <td>130.000000</td>\n",
              "      <td>226.000000</td>\n",
              "      <td>565.100000</td>\n",
              "      <td>297.600000</td>\n",
              "      <td>152.000000</td>\n",
              "      <td>201.000000</td>\n",
              "      <td>29.000000</td>\n",
              "    </tr>\n",
              "  </tbody>\n",
              "</table>\n",
              "</div>\n",
              "      <button class=\"colab-df-convert\" onclick=\"convertToInteractive('df-0259c012-e359-4f47-9940-ec1838ed181c')\"\n",
              "              title=\"Convert this dataframe to an interactive table.\"\n",
              "              style=\"display:none;\">\n",
              "        \n",
              "  <svg xmlns=\"http://www.w3.org/2000/svg\" height=\"24px\"viewBox=\"0 0 24 24\"\n",
              "       width=\"24px\">\n",
              "    <path d=\"M0 0h24v24H0V0z\" fill=\"none\"/>\n",
              "    <path d=\"M18.56 5.44l.94 2.06.94-2.06 2.06-.94-2.06-.94-.94-2.06-.94 2.06-2.06.94zm-11 1L8.5 8.5l.94-2.06 2.06-.94-2.06-.94L8.5 2.5l-.94 2.06-2.06.94zm10 10l.94 2.06.94-2.06 2.06-.94-2.06-.94-.94-2.06-.94 2.06-2.06.94z\"/><path d=\"M17.41 7.96l-1.37-1.37c-.4-.4-.92-.59-1.43-.59-.52 0-1.04.2-1.43.59L10.3 9.45l-7.72 7.72c-.78.78-.78 2.05 0 2.83L4 21.41c.39.39.9.59 1.41.59.51 0 1.02-.2 1.41-.59l7.78-7.78 2.81-2.81c.8-.78.8-2.07 0-2.86zM5.41 20L4 18.59l7.72-7.72 1.47 1.35L5.41 20z\"/>\n",
              "  </svg>\n",
              "      </button>\n",
              "      \n",
              "  <style>\n",
              "    .colab-df-container {\n",
              "      display:flex;\n",
              "      flex-wrap:wrap;\n",
              "      gap: 12px;\n",
              "    }\n",
              "\n",
              "    .colab-df-convert {\n",
              "      background-color: #E8F0FE;\n",
              "      border: none;\n",
              "      border-radius: 50%;\n",
              "      cursor: pointer;\n",
              "      display: none;\n",
              "      fill: #1967D2;\n",
              "      height: 32px;\n",
              "      padding: 0 0 0 0;\n",
              "      width: 32px;\n",
              "    }\n",
              "\n",
              "    .colab-df-convert:hover {\n",
              "      background-color: #E2EBFA;\n",
              "      box-shadow: 0px 1px 2px rgba(60, 64, 67, 0.3), 0px 1px 3px 1px rgba(60, 64, 67, 0.15);\n",
              "      fill: #174EA6;\n",
              "    }\n",
              "\n",
              "    [theme=dark] .colab-df-convert {\n",
              "      background-color: #3B4455;\n",
              "      fill: #D2E3FC;\n",
              "    }\n",
              "\n",
              "    [theme=dark] .colab-df-convert:hover {\n",
              "      background-color: #434B5C;\n",
              "      box-shadow: 0px 1px 3px 1px rgba(0, 0, 0, 0.15);\n",
              "      filter: drop-shadow(0px 1px 2px rgba(0, 0, 0, 0.3));\n",
              "      fill: #FFFFFF;\n",
              "    }\n",
              "  </style>\n",
              "\n",
              "      <script>\n",
              "        const buttonEl =\n",
              "          document.querySelector('#df-0259c012-e359-4f47-9940-ec1838ed181c button.colab-df-convert');\n",
              "        buttonEl.style.display =\n",
              "          google.colab.kernel.accessAllowed ? 'block' : 'none';\n",
              "\n",
              "        async function convertToInteractive(key) {\n",
              "          const element = document.querySelector('#df-0259c012-e359-4f47-9940-ec1838ed181c');\n",
              "          const dataTable =\n",
              "            await google.colab.kernel.invokeFunction('convertToInteractive',\n",
              "                                                     [key], {});\n",
              "          if (!dataTable) return;\n",
              "\n",
              "          const docLinkHtml = 'Like what you see? Visit the ' +\n",
              "            '<a target=\"_blank\" href=https://colab.research.google.com/notebooks/data_table.ipynb>data table notebook</a>'\n",
              "            + ' to learn more about interactive tables.';\n",
              "          element.innerHTML = '';\n",
              "          dataTable['output_type'] = 'display_data';\n",
              "          await google.colab.output.renderOutput(dataTable, element);\n",
              "          const docLink = document.createElement('div');\n",
              "          docLink.innerHTML = docLinkHtml;\n",
              "          element.appendChild(docLink);\n",
              "        }\n",
              "      </script>\n",
              "    </div>\n",
              "  </div>\n",
              "  "
            ],
            "text/plain": [
              "               Sex       Length  ...  Shell_weight        Rings\n",
              "count  4176.000000  4176.000000  ...   4176.000000  4176.000000\n",
              "mean      1.052682   104.801724  ...     47.770426     9.932471\n",
              "std       0.822208    24.020509  ...     27.842510     3.223601\n",
              "min       0.000000    15.000000  ...      0.300000     1.000000\n",
              "25%       0.000000    90.000000  ...     26.000000     8.000000\n",
              "50%       1.000000   109.000000  ...     46.800000     9.000000\n",
              "75%       2.000000   123.000000  ...     65.800000    11.000000\n",
              "max       2.000000   163.000000  ...    201.000000    29.000000\n",
              "\n",
              "[8 rows x 9 columns]"
            ]
          },
          "metadata": {},
          "execution_count": 32
        }
      ]
    },
    {
      "cell_type": "code",
      "source": [
        "U.sample(10)"
      ],
      "metadata": {
        "colab": {
          "base_uri": "https://localhost:8080/",
          "height": 363
        },
        "id": "doV0UWBSWWP1",
        "outputId": "54ed61e1-fc28-49e1-8e45-1786e9c5c09f"
      },
      "execution_count": null,
      "outputs": [
        {
          "output_type": "execute_result",
          "data": {
            "text/html": [
              "\n",
              "  <div id=\"df-bf17c192-c845-4979-9a55-7292ede74a44\">\n",
              "    <div class=\"colab-df-container\">\n",
              "      <div>\n",
              "<style scoped>\n",
              "    .dataframe tbody tr th:only-of-type {\n",
              "        vertical-align: middle;\n",
              "    }\n",
              "\n",
              "    .dataframe tbody tr th {\n",
              "        vertical-align: top;\n",
              "    }\n",
              "\n",
              "    .dataframe thead th {\n",
              "        text-align: right;\n",
              "    }\n",
              "</style>\n",
              "<table border=\"1\" class=\"dataframe\">\n",
              "  <thead>\n",
              "    <tr style=\"text-align: right;\">\n",
              "      <th></th>\n",
              "      <th>Sex</th>\n",
              "      <th>Length</th>\n",
              "      <th>Diameter</th>\n",
              "      <th>Height</th>\n",
              "      <th>Whole_weight</th>\n",
              "      <th>Shucked_weight</th>\n",
              "      <th>Viscera_weight</th>\n",
              "      <th>Shell_weight</th>\n",
              "      <th>Rings</th>\n",
              "    </tr>\n",
              "  </thead>\n",
              "  <tbody>\n",
              "    <tr>\n",
              "      <th>753</th>\n",
              "      <td>2</td>\n",
              "      <td>130</td>\n",
              "      <td>103</td>\n",
              "      <td>35</td>\n",
              "      <td>296.1</td>\n",
              "      <td>105.9</td>\n",
              "      <td>54.4</td>\n",
              "      <td>105.0</td>\n",
              "      <td>20</td>\n",
              "    </tr>\n",
              "    <tr>\n",
              "      <th>1914</th>\n",
              "      <td>0</td>\n",
              "      <td>120</td>\n",
              "      <td>94</td>\n",
              "      <td>27</td>\n",
              "      <td>194.0</td>\n",
              "      <td>93.1</td>\n",
              "      <td>39.1</td>\n",
              "      <td>52.8</td>\n",
              "      <td>11</td>\n",
              "    </tr>\n",
              "    <tr>\n",
              "      <th>2425</th>\n",
              "      <td>1</td>\n",
              "      <td>113</td>\n",
              "      <td>87</td>\n",
              "      <td>31</td>\n",
              "      <td>156.4</td>\n",
              "      <td>54.3</td>\n",
              "      <td>33.6</td>\n",
              "      <td>57.0</td>\n",
              "      <td>14</td>\n",
              "    </tr>\n",
              "    <tr>\n",
              "      <th>545</th>\n",
              "      <td>2</td>\n",
              "      <td>51</td>\n",
              "      <td>39</td>\n",
              "      <td>13</td>\n",
              "      <td>16.0</td>\n",
              "      <td>6.3</td>\n",
              "      <td>3.6</td>\n",
              "      <td>5.4</td>\n",
              "      <td>8</td>\n",
              "    </tr>\n",
              "    <tr>\n",
              "      <th>1645</th>\n",
              "      <td>1</td>\n",
              "      <td>116</td>\n",
              "      <td>89</td>\n",
              "      <td>25</td>\n",
              "      <td>141.9</td>\n",
              "      <td>60.6</td>\n",
              "      <td>28.1</td>\n",
              "      <td>47.0</td>\n",
              "      <td>9</td>\n",
              "    </tr>\n",
              "    <tr>\n",
              "      <th>2619</th>\n",
              "      <td>0</td>\n",
              "      <td>139</td>\n",
              "      <td>110</td>\n",
              "      <td>31</td>\n",
              "      <td>369.9</td>\n",
              "      <td>153.4</td>\n",
              "      <td>88.4</td>\n",
              "      <td>83.5</td>\n",
              "      <td>10</td>\n",
              "    </tr>\n",
              "    <tr>\n",
              "      <th>2418</th>\n",
              "      <td>0</td>\n",
              "      <td>93</td>\n",
              "      <td>72</td>\n",
              "      <td>24</td>\n",
              "      <td>95.3</td>\n",
              "      <td>38.4</td>\n",
              "      <td>22.5</td>\n",
              "      <td>32.0</td>\n",
              "      <td>10</td>\n",
              "    </tr>\n",
              "    <tr>\n",
              "      <th>349</th>\n",
              "      <td>0</td>\n",
              "      <td>122</td>\n",
              "      <td>99</td>\n",
              "      <td>37</td>\n",
              "      <td>230.6</td>\n",
              "      <td>107.2</td>\n",
              "      <td>58.1</td>\n",
              "      <td>49.0</td>\n",
              "      <td>8</td>\n",
              "    </tr>\n",
              "    <tr>\n",
              "      <th>3201</th>\n",
              "      <td>0</td>\n",
              "      <td>124</td>\n",
              "      <td>97</td>\n",
              "      <td>44</td>\n",
              "      <td>302.2</td>\n",
              "      <td>101.9</td>\n",
              "      <td>56.8</td>\n",
              "      <td>102.0</td>\n",
              "      <td>17</td>\n",
              "    </tr>\n",
              "    <tr>\n",
              "      <th>2846</th>\n",
              "      <td>2</td>\n",
              "      <td>125</td>\n",
              "      <td>100</td>\n",
              "      <td>26</td>\n",
              "      <td>216.4</td>\n",
              "      <td>115.7</td>\n",
              "      <td>40.9</td>\n",
              "      <td>50.0</td>\n",
              "      <td>8</td>\n",
              "    </tr>\n",
              "  </tbody>\n",
              "</table>\n",
              "</div>\n",
              "      <button class=\"colab-df-convert\" onclick=\"convertToInteractive('df-bf17c192-c845-4979-9a55-7292ede74a44')\"\n",
              "              title=\"Convert this dataframe to an interactive table.\"\n",
              "              style=\"display:none;\">\n",
              "        \n",
              "  <svg xmlns=\"http://www.w3.org/2000/svg\" height=\"24px\"viewBox=\"0 0 24 24\"\n",
              "       width=\"24px\">\n",
              "    <path d=\"M0 0h24v24H0V0z\" fill=\"none\"/>\n",
              "    <path d=\"M18.56 5.44l.94 2.06.94-2.06 2.06-.94-2.06-.94-.94-2.06-.94 2.06-2.06.94zm-11 1L8.5 8.5l.94-2.06 2.06-.94-2.06-.94L8.5 2.5l-.94 2.06-2.06.94zm10 10l.94 2.06.94-2.06 2.06-.94-2.06-.94-.94-2.06-.94 2.06-2.06.94z\"/><path d=\"M17.41 7.96l-1.37-1.37c-.4-.4-.92-.59-1.43-.59-.52 0-1.04.2-1.43.59L10.3 9.45l-7.72 7.72c-.78.78-.78 2.05 0 2.83L4 21.41c.39.39.9.59 1.41.59.51 0 1.02-.2 1.41-.59l7.78-7.78 2.81-2.81c.8-.78.8-2.07 0-2.86zM5.41 20L4 18.59l7.72-7.72 1.47 1.35L5.41 20z\"/>\n",
              "  </svg>\n",
              "      </button>\n",
              "      \n",
              "  <style>\n",
              "    .colab-df-container {\n",
              "      display:flex;\n",
              "      flex-wrap:wrap;\n",
              "      gap: 12px;\n",
              "    }\n",
              "\n",
              "    .colab-df-convert {\n",
              "      background-color: #E8F0FE;\n",
              "      border: none;\n",
              "      border-radius: 50%;\n",
              "      cursor: pointer;\n",
              "      display: none;\n",
              "      fill: #1967D2;\n",
              "      height: 32px;\n",
              "      padding: 0 0 0 0;\n",
              "      width: 32px;\n",
              "    }\n",
              "\n",
              "    .colab-df-convert:hover {\n",
              "      background-color: #E2EBFA;\n",
              "      box-shadow: 0px 1px 2px rgba(60, 64, 67, 0.3), 0px 1px 3px 1px rgba(60, 64, 67, 0.15);\n",
              "      fill: #174EA6;\n",
              "    }\n",
              "\n",
              "    [theme=dark] .colab-df-convert {\n",
              "      background-color: #3B4455;\n",
              "      fill: #D2E3FC;\n",
              "    }\n",
              "\n",
              "    [theme=dark] .colab-df-convert:hover {\n",
              "      background-color: #434B5C;\n",
              "      box-shadow: 0px 1px 3px 1px rgba(0, 0, 0, 0.15);\n",
              "      filter: drop-shadow(0px 1px 2px rgba(0, 0, 0, 0.3));\n",
              "      fill: #FFFFFF;\n",
              "    }\n",
              "  </style>\n",
              "\n",
              "      <script>\n",
              "        const buttonEl =\n",
              "          document.querySelector('#df-bf17c192-c845-4979-9a55-7292ede74a44 button.colab-df-convert');\n",
              "        buttonEl.style.display =\n",
              "          google.colab.kernel.accessAllowed ? 'block' : 'none';\n",
              "\n",
              "        async function convertToInteractive(key) {\n",
              "          const element = document.querySelector('#df-bf17c192-c845-4979-9a55-7292ede74a44');\n",
              "          const dataTable =\n",
              "            await google.colab.kernel.invokeFunction('convertToInteractive',\n",
              "                                                     [key], {});\n",
              "          if (!dataTable) return;\n",
              "\n",
              "          const docLinkHtml = 'Like what you see? Visit the ' +\n",
              "            '<a target=\"_blank\" href=https://colab.research.google.com/notebooks/data_table.ipynb>data table notebook</a>'\n",
              "            + ' to learn more about interactive tables.';\n",
              "          element.innerHTML = '';\n",
              "          dataTable['output_type'] = 'display_data';\n",
              "          await google.colab.output.renderOutput(dataTable, element);\n",
              "          const docLink = document.createElement('div');\n",
              "          docLink.innerHTML = docLinkHtml;\n",
              "          element.appendChild(docLink);\n",
              "        }\n",
              "      </script>\n",
              "    </div>\n",
              "  </div>\n",
              "  "
            ],
            "text/plain": [
              "      Sex  Length  Diameter  ...  Viscera_weight  Shell_weight  Rings\n",
              "753     2     130       103  ...            54.4         105.0     20\n",
              "1914    0     120        94  ...            39.1          52.8     11\n",
              "2425    1     113        87  ...            33.6          57.0     14\n",
              "545     2      51        39  ...             3.6           5.4      8\n",
              "1645    1     116        89  ...            28.1          47.0      9\n",
              "2619    0     139       110  ...            88.4          83.5     10\n",
              "2418    0      93        72  ...            22.5          32.0     10\n",
              "349     0     122        99  ...            58.1          49.0      8\n",
              "3201    0     124        97  ...            56.8         102.0     17\n",
              "2846    2     125       100  ...            40.9          50.0      8\n",
              "\n",
              "[10 rows x 9 columns]"
            ]
          },
          "metadata": {},
          "execution_count": 33
        }
      ]
    },
    {
      "cell_type": "code",
      "source": [
        "U.isnull().sum()"
      ],
      "metadata": {
        "colab": {
          "base_uri": "https://localhost:8080/"
        },
        "id": "_XYh96_lWdVH",
        "outputId": "b1ef9ff4-e640-475d-d372-848ec5033589"
      },
      "execution_count": null,
      "outputs": [
        {
          "output_type": "execute_result",
          "data": {
            "text/plain": [
              "Sex               0\n",
              "Length            0\n",
              "Diameter          0\n",
              "Height            0\n",
              "Whole_weight      0\n",
              "Shucked_weight    0\n",
              "Viscera_weight    0\n",
              "Shell_weight      0\n",
              "Rings             0\n",
              "dtype: int64"
            ]
          },
          "metadata": {},
          "execution_count": 34
        }
      ]
    },
    {
      "cell_type": "code",
      "source": [
        "U.dtypes"
      ],
      "metadata": {
        "colab": {
          "base_uri": "https://localhost:8080/"
        },
        "id": "YD3R0N08WgaI",
        "outputId": "ba95a135-ca36-4fe1-d9fc-5c34d8b6c81d"
      },
      "execution_count": null,
      "outputs": [
        {
          "output_type": "execute_result",
          "data": {
            "text/plain": [
              "Sex                  int8\n",
              "Length              int64\n",
              "Diameter            int64\n",
              "Height              int64\n",
              "Whole_weight      float64\n",
              "Shucked_weight    float64\n",
              "Viscera_weight    float64\n",
              "Shell_weight      float64\n",
              "Rings               int64\n",
              "dtype: object"
            ]
          },
          "metadata": {},
          "execution_count": 35
        }
      ]
    },
    {
      "cell_type": "code",
      "source": [
        "U.hist(figsize=(10,15))"
      ],
      "metadata": {
        "colab": {
          "base_uri": "https://localhost:8080/",
          "height": 1000
        },
        "id": "3CEN4HCuWlKJ",
        "outputId": "0eb86bd4-373a-47af-f6b5-320d3aad1501"
      },
      "execution_count": null,
      "outputs": [
        {
          "output_type": "execute_result",
          "data": {
            "text/plain": [
              "array([[<matplotlib.axes._subplots.AxesSubplot object at 0x7f38650a3290>,\n",
              "        <matplotlib.axes._subplots.AxesSubplot object at 0x7f3865070650>,\n",
              "        <matplotlib.axes._subplots.AxesSubplot object at 0x7f3865028c50>],\n",
              "       [<matplotlib.axes._subplots.AxesSubplot object at 0x7f3864fea290>,\n",
              "        <matplotlib.axes._subplots.AxesSubplot object at 0x7f3864fa0890>,\n",
              "        <matplotlib.axes._subplots.AxesSubplot object at 0x7f3864f56e90>],\n",
              "       [<matplotlib.axes._subplots.AxesSubplot object at 0x7f3864f19550>,\n",
              "        <matplotlib.axes._subplots.AxesSubplot object at 0x7f3864ecda90>,\n",
              "        <matplotlib.axes._subplots.AxesSubplot object at 0x7f3865081750>]],\n",
              "      dtype=object)"
            ]
          },
          "metadata": {},
          "execution_count": 12
        },
        {
          "output_type": "display_data",
          "data": {
            "image/png": "[encoded data removed]",
            "text/plain": [
              "<Figure size 720x1080 with 9 Axes>"
            ]
          },
          "metadata": {
            "needs_background": "light"
          }
        }
      ]
    },
    {
      "cell_type": "code",
      "source": [
        "corr = U.corr()\n",
        "corr"
      ],
      "metadata": {
        "colab": {
          "base_uri": "https://localhost:8080/",
          "height": 395
        },
        "id": "AKNpLpJZYfiS",
        "outputId": "9bd182d1-6139-44c3-edce-f83f112ed95f"
      },
      "execution_count": null,
      "outputs": [
        {
          "output_type": "execute_result",
          "data": {
            "text/html": [
              "\n",
              "  <div id=\"df-84375a38-727e-4ecf-8793-7b4fa9ca65f1\">\n",
              "    <div class=\"colab-df-container\">\n",
              "      <div>\n",
              "<style scoped>\n",
              "    .dataframe tbody tr th:only-of-type {\n",
              "        vertical-align: middle;\n",
              "    }\n",
              "\n",
              "    .dataframe tbody tr th {\n",
              "        vertical-align: top;\n",
              "    }\n",
              "\n",
              "    .dataframe thead th {\n",
              "        text-align: right;\n",
              "    }\n",
              "</style>\n",
              "<table border=\"1\" class=\"dataframe\">\n",
              "  <thead>\n",
              "    <tr style=\"text-align: right;\">\n",
              "      <th></th>\n",
              "      <th>Sex</th>\n",
              "      <th>Length</th>\n",
              "      <th>Diameter</th>\n",
              "      <th>Height</th>\n",
              "      <th>Whole_weight</th>\n",
              "      <th>Shucked_weight</th>\n",
              "      <th>Viscera_weight</th>\n",
              "      <th>Shell_weight</th>\n",
              "      <th>Rings</th>\n",
              "    </tr>\n",
              "  </thead>\n",
              "  <tbody>\n",
              "    <tr>\n",
              "      <th>Sex</th>\n",
              "      <td>1.000000</td>\n",
              "      <td>-0.035915</td>\n",
              "      <td>-0.038762</td>\n",
              "      <td>-0.041796</td>\n",
              "      <td>-0.021219</td>\n",
              "      <td>-0.001205</td>\n",
              "      <td>-0.031873</td>\n",
              "      <td>-0.034686</td>\n",
              "      <td>-0.035076</td>\n",
              "    </tr>\n",
              "    <tr>\n",
              "      <th>Length</th>\n",
              "      <td>-0.035915</td>\n",
              "      <td>1.000000</td>\n",
              "      <td>0.986813</td>\n",
              "      <td>0.827552</td>\n",
              "      <td>0.925255</td>\n",
              "      <td>0.897905</td>\n",
              "      <td>0.903010</td>\n",
              "      <td>0.897697</td>\n",
              "      <td>0.557123</td>\n",
              "    </tr>\n",
              "    <tr>\n",
              "      <th>Diameter</th>\n",
              "      <td>-0.038762</td>\n",
              "      <td>0.986813</td>\n",
              "      <td>1.000000</td>\n",
              "      <td>0.833705</td>\n",
              "      <td>0.925452</td>\n",
              "      <td>0.893159</td>\n",
              "      <td>0.899726</td>\n",
              "      <td>0.905328</td>\n",
              "      <td>0.575005</td>\n",
              "    </tr>\n",
              "    <tr>\n",
              "      <th>Height</th>\n",
              "      <td>-0.041796</td>\n",
              "      <td>0.827552</td>\n",
              "      <td>0.833705</td>\n",
              "      <td>1.000000</td>\n",
              "      <td>0.819209</td>\n",
              "      <td>0.774957</td>\n",
              "      <td>0.798293</td>\n",
              "      <td>0.817326</td>\n",
              "      <td>0.558109</td>\n",
              "    </tr>\n",
              "    <tr>\n",
              "      <th>Whole_weight</th>\n",
              "      <td>-0.021219</td>\n",
              "      <td>0.925255</td>\n",
              "      <td>0.925452</td>\n",
              "      <td>0.819209</td>\n",
              "      <td>1.000000</td>\n",
              "      <td>0.969403</td>\n",
              "      <td>0.966372</td>\n",
              "      <td>0.955351</td>\n",
              "      <td>0.540818</td>\n",
              "    </tr>\n",
              "    <tr>\n",
              "      <th>Shucked_weight</th>\n",
              "      <td>-0.001205</td>\n",
              "      <td>0.897905</td>\n",
              "      <td>0.893159</td>\n",
              "      <td>0.774957</td>\n",
              "      <td>0.969403</td>\n",
              "      <td>1.000000</td>\n",
              "      <td>0.931956</td>\n",
              "      <td>0.882606</td>\n",
              "      <td>0.421256</td>\n",
              "    </tr>\n",
              "    <tr>\n",
              "      <th>Viscera_weight</th>\n",
              "      <td>-0.031873</td>\n",
              "      <td>0.903010</td>\n",
              "      <td>0.899726</td>\n",
              "      <td>0.798293</td>\n",
              "      <td>0.966372</td>\n",
              "      <td>0.931956</td>\n",
              "      <td>1.000000</td>\n",
              "      <td>0.907647</td>\n",
              "      <td>0.504274</td>\n",
              "    </tr>\n",
              "    <tr>\n",
              "      <th>Shell_weight</th>\n",
              "      <td>-0.034686</td>\n",
              "      <td>0.897697</td>\n",
              "      <td>0.905328</td>\n",
              "      <td>0.817326</td>\n",
              "      <td>0.955351</td>\n",
              "      <td>0.882606</td>\n",
              "      <td>0.907647</td>\n",
              "      <td>1.000000</td>\n",
              "      <td>0.628031</td>\n",
              "    </tr>\n",
              "    <tr>\n",
              "      <th>Rings</th>\n",
              "      <td>-0.035076</td>\n",
              "      <td>0.557123</td>\n",
              "      <td>0.575005</td>\n",
              "      <td>0.558109</td>\n",
              "      <td>0.540818</td>\n",
              "      <td>0.421256</td>\n",
              "      <td>0.504274</td>\n",
              "      <td>0.628031</td>\n",
              "      <td>1.000000</td>\n",
              "    </tr>\n",
              "  </tbody>\n",
              "</table>\n",
              "</div>\n",
              "      <button class=\"colab-df-convert\" onclick=\"convertToInteractive('df-84375a38-727e-4ecf-8793-7b4fa9ca65f1')\"\n",
              "              title=\"Convert this dataframe to an interactive table.\"\n",
              "              style=\"display:none;\">\n",
              "        \n",
              "  <svg xmlns=\"http://www.w3.org/2000/svg\" height=\"24px\"viewBox=\"0 0 24 24\"\n",
              "       width=\"24px\">\n",
              "    <path d=\"M0 0h24v24H0V0z\" fill=\"none\"/>\n",
              "    <path d=\"M18.56 5.44l.94 2.06.94-2.06 2.06-.94-2.06-.94-.94-2.06-.94 2.06-2.06.94zm-11 1L8.5 8.5l.94-2.06 2.06-.94-2.06-.94L8.5 2.5l-.94 2.06-2.06.94zm10 10l.94 2.06.94-2.06 2.06-.94-2.06-.94-.94-2.06-.94 2.06-2.06.94z\"/><path d=\"M17.41 7.96l-1.37-1.37c-.4-.4-.92-.59-1.43-.59-.52 0-1.04.2-1.43.59L10.3 9.45l-7.72 7.72c-.78.78-.78 2.05 0 2.83L4 21.41c.39.39.9.59 1.41.59.51 0 1.02-.2 1.41-.59l7.78-7.78 2.81-2.81c.8-.78.8-2.07 0-2.86zM5.41 20L4 18.59l7.72-7.72 1.47 1.35L5.41 20z\"/>\n",
              "  </svg>\n",
              "      </button>\n",
              "      \n",
              "  <style>\n",
              "    .colab-df-container {\n",
              "      display:flex;\n",
              "      flex-wrap:wrap;\n",
              "      gap: 12px;\n",
              "    }\n",
              "\n",
              "    .colab-df-convert {\n",
              "      background-color: #E8F0FE;\n",
              "      border: none;\n",
              "      border-radius: 50%;\n",
              "      cursor: pointer;\n",
              "      display: none;\n",
              "      fill: #1967D2;\n",
              "      height: 32px;\n",
              "      padding: 0 0 0 0;\n",
              "      width: 32px;\n",
              "    }\n",
              "\n",
              "    .colab-df-convert:hover {\n",
              "      background-color: #E2EBFA;\n",
              "      box-shadow: 0px 1px 2px rgba(60, 64, 67, 0.3), 0px 1px 3px 1px rgba(60, 64, 67, 0.15);\n",
              "      fill: #174EA6;\n",
              "    }\n",
              "\n",
              "    [theme=dark] .colab-df-convert {\n",
              "      background-color: #3B4455;\n",
              "      fill: #D2E3FC;\n",
              "    }\n",
              "\n",
              "    [theme=dark] .colab-df-convert:hover {\n",
              "      background-color: #434B5C;\n",
              "      box-shadow: 0px 1px 3px 1px rgba(0, 0, 0, 0.15);\n",
              "      filter: drop-shadow(0px 1px 2px rgba(0, 0, 0, 0.3));\n",
              "      fill: #FFFFFF;\n",
              "    }\n",
              "  </style>\n",
              "\n",
              "      <script>\n",
              "        const buttonEl =\n",
              "          document.querySelector('#df-84375a38-727e-4ecf-8793-7b4fa9ca65f1 button.colab-df-convert');\n",
              "        buttonEl.style.display =\n",
              "          google.colab.kernel.accessAllowed ? 'block' : 'none';\n",
              "\n",
              "        async function convertToInteractive(key) {\n",
              "          const element = document.querySelector('#df-84375a38-727e-4ecf-8793-7b4fa9ca65f1');\n",
              "          const dataTable =\n",
              "            await google.colab.kernel.invokeFunction('convertToInteractive',\n",
              "                                                     [key], {});\n",
              "          if (!dataTable) return;\n",
              "\n",
              "          const docLinkHtml = 'Like what you see? Visit the ' +\n",
              "            '<a target=\"_blank\" href=https://colab.research.google.com/notebooks/data_table.ipynb>data table notebook</a>'\n",
              "            + ' to learn more about interactive tables.';\n",
              "          element.innerHTML = '';\n",
              "          dataTable['output_type'] = 'display_data';\n",
              "          await google.colab.output.renderOutput(dataTable, element);\n",
              "          const docLink = document.createElement('div');\n",
              "          docLink.innerHTML = docLinkHtml;\n",
              "          element.appendChild(docLink);\n",
              "        }\n",
              "      </script>\n",
              "    </div>\n",
              "  </div>\n",
              "  "
            ],
            "text/plain": [
              "                     Sex    Length  ...  Shell_weight     Rings\n",
              "Sex             1.000000 -0.035915  ...     -0.034686 -0.035076\n",
              "Length         -0.035915  1.000000  ...      0.897697  0.557123\n",
              "Diameter       -0.038762  0.986813  ...      0.905328  0.575005\n",
              "Height         -0.041796  0.827552  ...      0.817326  0.558109\n",
              "Whole_weight   -0.021219  0.925255  ...      0.955351  0.540818\n",
              "Shucked_weight -0.001205  0.897905  ...      0.882606  0.421256\n",
              "Viscera_weight -0.031873  0.903010  ...      0.907647  0.504274\n",
              "Shell_weight   -0.034686  0.897697  ...      1.000000  0.628031\n",
              "Rings          -0.035076  0.557123  ...      0.628031  1.000000\n",
              "\n",
              "[9 rows x 9 columns]"
            ]
          },
          "metadata": {},
          "execution_count": 13
        }
      ]
    },
    {
      "cell_type": "code",
      "source": [
        "sns.heatmap(corr, annot=False)"
      ],
      "metadata": {
        "colab": {
          "base_uri": "https://localhost:8080/",
          "height": 358
        },
        "id": "seqmBE8XYiql",
        "outputId": "a19059e6-b215-4b1f-b92e-4ba7f296502a"
      },
      "execution_count": null,
      "outputs": [
        {
          "output_type": "execute_result",
          "data": {
            "text/plain": [
              "<matplotlib.axes._subplots.AxesSubplot at 0x7f3864773ad0>"
            ]
          },
          "metadata": {},
          "execution_count": 14
        },
        {
          "output_type": "display_data",
          "data": {
            "image/png": "[encoded data removed]",
            "text/plain": [
              "<Figure size 432x288 with 2 Axes>"
            ]
          },
          "metadata": {
            "needs_background": "light"
          }
        }
      ]
    },
    {
      "cell_type": "code",
      "source": [
        "# split train - validation\n",
        "\n",
        "shuffle_df = U.sample(frac=1)\n",
        "\n",
        "# Define a size for your train set \n",
        "train_size = int(0.8 * len(U))\n",
        "\n",
        "# Split your dataset \n",
        "train_set = shuffle_df[:train_size]\n",
        "valid_set = shuffle_df[train_size:]\n",
        "\n",
        "#split feature target\n",
        "\n",
        "x_train = train_set.drop(\"Rings\",axis=1).to_numpy()\n",
        "y_train = train_set[\"Rings\"]\n",
        "\n",
        "x_valid = valid_set.drop(\"Rings\",axis=1)\n",
        "y_valid = valid_set[\"Rings\"]"
      ],
      "metadata": {
        "id": "szWTOEtfZJgm"
      },
      "execution_count": null,
      "outputs": []
    },
    {
      "cell_type": "code",
      "source": [
        "#no need\n",
        "mA = x_train.mean(axis=0)\n",
        "sA = x_train.std(axis=0)\n",
        "x_train = (x_train-mA)/sA\n",
        "x_valid = (x_valid-mA)/sA"
      ],
      "metadata": {
        "id": "1M46jMHBb7OE"
      },
      "execution_count": null,
      "outputs": []
    },
    {
      "cell_type": "code",
      "source": [
        "# no need\n",
        "m = y_train.mean()\n",
        "y_train = y_train-m\n",
        "y_valid = y_valid-m"
      ],
      "metadata": {
        "id": "dco1vFuRc6ZW"
      },
      "execution_count": null,
      "outputs": []
    },
    {
      "cell_type": "code",
      "source": [
        "x_train.shape[1]"
      ],
      "metadata": {
        "colab": {
          "base_uri": "https://localhost:8080/"
        },
        "id": "-dYL8GQFdAD2",
        "outputId": "b924bcf1-b3b4-4fc6-847c-c9bc28e34af6"
      },
      "execution_count": null,
      "outputs": [
        {
          "output_type": "execute_result",
          "data": {
            "text/plain": [
              "8"
            ]
          },
          "metadata": {},
          "execution_count": 22
        }
      ]
    },
    {
      "cell_type": "markdown",
      "source": [
        "# Problem definition (Linear regression)"
      ],
      "metadata": {
        "id": "q3AnB-8qh_67"
      }
    },
    {
      "cell_type": "code",
      "source": [
        "class RegPb(object):\n",
        "    '''\n",
        "        A class for regression problems with linear models.\n",
        "        \n",
        "        Attributes:\n",
        "            X: Data matrix (features)\n",
        "            y: Data vector (labels)\n",
        "            n,d: Dimensions of X\n",
        "            loss: Loss function to be considered in the regression\n",
        "                'l2': Least-squares loss\n",
        "            lbda: Regularization parameter\n",
        "    '''\n",
        "   \n",
        "    # Instantiate the class\n",
        "    def __init__(self, X, y,lbda=0,loss='l2'):\n",
        "        self.X = X\n",
        "        self.y = y\n",
        "        self.n, self.d = X.shape\n",
        "        self.loss = loss\n",
        "        self.lbda = lbda\n",
        "        \n",
        "    \n",
        "    # Objective value\n",
        "    def fun(self, w):\n",
        "        if self.loss=='l2':\n",
        "          return np.square(self.X.dot(w) - self.y).mean() + self.lbda * norm(w) ** 2\n",
        "        else:\n",
        "          return  np.square(self.X.dot(w) - self.y).mean()\n",
        "\n",
        "\n",
        "    \"\"\"\n",
        "    # Partial objective value\n",
        "    def f_i(self, i, w):\n",
        "        if self.loss=='l2':\n",
        "            return norm(self.X[i].dot(w) - self.y[i]) ** 2 / (2.) + self.lbda * norm(w) ** 2\n",
        "        else:\n",
        "          return norm(self.X[i].dot(w) - self.y[i]) ** 2 / (2.)\n",
        "    \"\"\"\n",
        "    \n",
        "    # Full gradient computation\n",
        "    def grad(self, w):\n",
        "        if self.loss=='l2':\n",
        "          return self.X.T.dot(self.X.dot(w) - self.y) * (2/self.n)  + 2 * self.lbda * w\n",
        "        else:\n",
        "          return self.X.T.dot(self.X.dot(w) - self.y) * (2/self.n)\n",
        "    \n",
        "    # Partial gradient\n",
        "    def grad_i(self,i,w):\n",
        "        x_i = self.X[i]\n",
        "        if self.loss=='l2':\n",
        "          return (2/self.n) * (x_i.dot(w) - self.y[i]) * x_i + 2 * self.lbda*w\n",
        "        else:\n",
        "          return (2/self.n) * (x_i.dot(w) - self.y[i]) * x_i\n",
        "\n",
        "    \"\"\"\n",
        "    # Lipschitz constant for the gradient\n",
        "    def lipgrad(self):\n",
        "        if self.loss=='l2':\n",
        "            L = norm(self.X, ord=2) ** 2 / self.n + self.lbda\n",
        "    \"\"\"\n"
      ],
      "metadata": {
        "id": "mBdsHkyfdB_3"
      },
      "execution_count": null,
      "outputs": []
    },
    {
      "cell_type": "code",
      "source": [
        "lda = 1. / x_train.shape[0] ** (0.5)\n",
        "pblinreg = RegPb(x_train, y_train, lbda=lda, loss='l2')"
      ],
      "metadata": {
        "id": "LP02K11ws4y5"
      },
      "execution_count": null,
      "outputs": []
    },
    {
      "cell_type": "markdown",
      "source": [
        "**PCA**"
      ],
      "metadata": {
        "id": "BlGlsGAwpI4n"
      }
    },
    {
      "cell_type": "code",
      "source": [
        "U, s, V = np.linalg.svd(x_train.T.dot(x_train))"
      ],
      "metadata": {
        "id": "qmo5GSBgkq6M"
      },
      "execution_count": null,
      "outputs": []
    },
    {
      "cell_type": "code",
      "source": [
        "eig_values, eig_vectors = s, U\n",
        "explained_variance=(eig_values / np.sum(eig_values))*100\n",
        "plt.figure(figsize=(8,4))\n",
        "plt.bar(range(8), explained_variance, alpha=0.6)\n",
        "plt.ylabel('Percentage of explained variance')\n",
        "plt.xlabel('Dimensions')"
      ],
      "metadata": {
        "colab": {
          "base_uri": "https://localhost:8080/",
          "height": 297
        },
        "id": "cNNjc_7Vmudi",
        "outputId": "3db14fe9-c2d4-4a5c-a5c6-dbb4ad7213c3"
      },
      "execution_count": null,
      "outputs": [
        {
          "output_type": "execute_result",
          "data": {
            "text/plain": [
              "Text(0.5, 0, 'Dimensions')"
            ]
          },
          "metadata": {},
          "execution_count": 18
        },
        {
          "output_type": "display_data",
          "data": {
            "image/png": "[encoded data removed]",
            "text/plain": [
              "<Figure size 576x288 with 1 Axes>"
            ]
          },
          "metadata": {
            "needs_background": "light"
          }
        }
      ]
    },
    {
      "cell_type": "code",
      "source": [
        "\n",
        "\n",
        "# calculating our new axis\n",
        "pc1 = x_train.dot(eig_vectors[:,0])\n",
        "pc2 = x_train.dot(eig_vectors[:,1])\n",
        "\n"
      ],
      "metadata": {
        "id": "xeivSo9onjao"
      },
      "execution_count": null,
      "outputs": []
    },
    {
      "cell_type": "code",
      "source": [
        "plt.plot(pc1, pc2, '.')\n",
        "plt.axis('equal');"
      ],
      "metadata": {
        "colab": {
          "base_uri": "https://localhost:8080/",
          "height": 265
        },
        "id": "xckJN1FWlIUk",
        "outputId": "15cf72bd-b66c-44bc-e9f8-8106ca590ca5"
      },
      "execution_count": null,
      "outputs": [
        {
          "output_type": "display_data",
          "data": {
            "image/png": "[encoded data removed]",
            "text/plain": [
              "<Figure size 432x288 with 1 Axes>"
            ]
          },
          "metadata": {
            "needs_background": "light"
          }
        }
      ]
    },
    {
      "cell_type": "markdown",
      "source": [
        "# Btach Gradietn Descent"
      ],
      "metadata": {
        "id": "3_zRC4jihYr3"
      }
    },
    {
      "cell_type": "code",
      "source": [
        "def batch_grad(w0,problem, stepchoice=0, lr= 0.01, n_iter=1000,verbose=False):\n",
        " \n",
        " # objective history\n",
        "    objvals = []\n",
        " # Number of samples\n",
        "    n = problem.n\n",
        "    \n",
        "    # Initial value of current iterate  \n",
        "    w = w0.copy()\n",
        "    nw = norm(w)\n",
        " # Current objective\n",
        "    obj = problem.fun(w) \n",
        "    objvals.append(obj);\n",
        "  # Initialize iteration counter\n",
        "    k=0\n",
        "  \n",
        "  # Plot initial quantities of interest\n",
        "    if verbose:\n",
        "        print(\"Gradient Descent\")\n",
        "        print(' | '.join([name.center(8) for name in [\"iter\", \"MSE_Loss\"]]))\n",
        "        print(' | '.join([(\"%d\" % k).rjust(8),(\"%.2e\" % obj).rjust(8)]))\n",
        "  # Main loop\n",
        "    while (k < n_iter ):#and nw < 10**100\n",
        "        # gradient calculation\n",
        "        gr = np.zeros(d)\n",
        "        gr = problem.grad(w)\n",
        "        \n",
        "\n",
        "        \n",
        "           \n",
        "        if stepchoice==0:\n",
        "            w[:] = w - lr * gr\n",
        "        elif stepchoice>0:\n",
        "          if (k*nb*10) % n == 0:\n",
        "            sk = float(lr/stepchoice)\n",
        "            w[:] = w - sk * gr\n",
        "        \n",
        "        nw = norm(w) #Computing the norm to measure divergence \n",
        "        obj = problem.fun(w)\n",
        "        \n",
        "       \n",
        "        \n",
        "        k += 1\n",
        "        # Plot quantities of interest at the end of every epoch only\n",
        "        objvals.append(obj)\n",
        "        if verbose:\n",
        "          print(' | '.join([(\"%d\" % k).rjust(8),(\"%.2e\" % obj).rjust(8)]))     \n",
        "    \n",
        "    # End of main loop\n",
        "    #################\n",
        "    \n",
        "    # Plot quantities of interest for the last iterate (if needed)\n",
        "    if k % n_iter > 0:\n",
        "        objvals.append(obj)\n",
        "        if verbose:\n",
        "            print(' | '.join([(\"%d\" % k).rjust(8),(\"%.2e\" % obj).rjust(8)]))              \n",
        "    \n",
        "    # Outputs\n",
        "    \n",
        "    w_output = w.copy()\n",
        "    \n",
        "    return w_output, np.array(objvals)"
      ],
      "metadata": {
        "id": "st7wxam4oi1U"
      },
      "execution_count": null,
      "outputs": []
    },
    {
      "cell_type": "markdown",
      "source": [
        "**Different Learning rates**"
      ],
      "metadata": {
        "id": "pU5jA9FKREoT"
      }
    },
    {
      "cell_type": "code",
      "source": [
        "nb_epochs = 100\n",
        "n = pblinreg.n\n",
        "d = pblinreg.d\n",
        "w0 = np.zeros(d)\n",
        "valsstep0 = [0.1,0.01,0.001,0.0001,0.00001]\n",
        "nvals = len(valsstep0)\n",
        "\n",
        "objs = np.zeros((nvals,nb_epochs+1))\n",
        "\n",
        "for val in range(nvals):\n",
        "    w_temp, objs_temp = batch_grad(w0,pblinreg, lr=valsstep0[val], n_iter=nb_epochs)\n",
        "    objs[val] = objs_temp"
      ],
      "metadata": {
        "id": "0w2mwpKMWDy1"
      },
      "execution_count": null,
      "outputs": []
    },
    {
      "cell_type": "code",
      "source": [
        "epochs = range(1,102)\n",
        "plt.figure(figsize=(7, 5))\n",
        "\n",
        "for val in range(nvals):\n",
        "    plt.plot(epochs, objs[val], label=\"BG - \"+str(valsstep0[val]), lw=2)\n",
        "plt.title(\"Convergence plot\", fontsize=16)\n",
        "plt.xlabel(\"#epochs\", fontsize=14)\n",
        "plt.ylabel(\"Objective\", fontsize=14)\n",
        "plt.legend()\n",
        "\n",
        "plt.show()"
      ],
      "metadata": {
        "colab": {
          "base_uri": "https://localhost:8080/",
          "height": 356
        },
        "id": "fwPPx04iZrxz",
        "outputId": "30365846-45e5-4f30-b216-ea88d9227fb5"
      },
      "execution_count": null,
      "outputs": [
        {
          "output_type": "display_data",
          "data": {
            "image/png": "[encoded data removed]",
            "text/plain": [
              "<Figure size 504x360 with 1 Axes>"
            ]
          },
          "metadata": {
            "needs_background": "light"
          }
        }
      ]
    },
    {
      "cell_type": "markdown",
      "source": [
        "# Accelerated Gradient Descent"
      ],
      "metadata": {
        "id": "2PF8bZSThMTU"
      }
    },
    {
      "cell_type": "code",
      "source": [
        "def accelerated_grad(w_0,problem,lr=0.001,method=\"nesterov\",momentum=None,n_iter=100,verbose=False): \n",
        "    \"\"\"\n",
        "        A generic code for Nesterov's accelerated gradient method.\n",
        "        \n",
        "        Inputs:\n",
        "            w0: Initial vector\n",
        "            problem: Problem structure\n",
        "            lr: Learning rate\n",
        "            method: Type of acceleration technique that is used\n",
        "                'nesterov': Accelerated gradient for convex functions (Nesterov)\n",
        "            momentum: Constant value for the momentum parameter (only used if method!='nesterov')\n",
        "            n_iter: Number of iterations\n",
        "            verbose: Boolean value indicating whether the outcome of every iteration should be displayed\n",
        "            \n",
        "        Outputs:\n",
        "            z_output: Final iterate of the method\n",
        "            objvals: History of function values in z (output as a Numpy array of length n_iter+1)\n",
        "    \"\"\"\n",
        "    \n",
        "    ############\n",
        "    # Initial step: Compute and plot some initial quantities\n",
        "\n",
        "    # objective history\n",
        "    objvals = []\n",
        "    \n",
        "    \n",
        "    # Initial value of current and next iterates   \n",
        "    w = w0.copy()\n",
        "    w_new = w0.copy()\n",
        "    z = w0.copy()\n",
        "    \n",
        "    if method=='nesterov':\n",
        "        # Initialize parameter sequence\n",
        "        tk = 0\n",
        "        tkp1 = 1\n",
        "        momentum = 0\n",
        " \n",
        "    # Initialize iteration counter\n",
        "    k=0\n",
        "    \n",
        "    # Initial objective\n",
        "    obj = problem.fun(z)\n",
        "    objvals.append(obj);\n",
        "    \n",
        "    # Plot the initial values if required\n",
        "    if verbose:\n",
        "        print(\"Accelerated Gradient/\"+method)\n",
        "        print(' | '.join([name.center(8) for name in [\"iter\", \"fval\"]]))\n",
        "        print(' | '.join([(\"%d\" % k).rjust(8),(\"%.2e\" % obj).rjust(8)]))\n",
        "    \n",
        "    #######################\n",
        "    # Main loop\n",
        "    while (k < n_iter):\n",
        "        \n",
        "        # Perform the accelerated iteration\n",
        "     \n",
        "        # Gradient step\n",
        "        g = problem.grad(z)\n",
        "        w_new[:] = z - lr * g\n",
        "        # Momentum step\n",
        "        z[:] = w_new + momentum*(w_new-w)\n",
        "        # Update sequence\n",
        "        w[:] = w_new[:]\n",
        "        \n",
        "        \n",
        "        # Adjusting the momentum parameter if needed\n",
        "        if method=='nesterov':\n",
        "            tkp1 = 0.5*(1+np.sqrt(1+4*(tk**2)))\n",
        "            momentum = (tk-1)/tkp1\n",
        "            tk = tkp1\n",
        "        \n",
        "        # Compute and plot the new objective value and distance to the minimum\n",
        "        \n",
        "        obj = problem.fun(z)\n",
        "        objvals.append(obj)\n",
        "        \n",
        "        # Plot these values if required\n",
        "        if verbose:\n",
        "            print(' | '.join([(\"%d\" % k).rjust(8),(\"%.2e\" % obj).rjust(8)]))   \n",
        "        \n",
        "        # Increment the iteration counter\n",
        "        k += 1\n",
        "    \n",
        "    # End loop\n",
        "    #######################\n",
        "    \n",
        "    \n",
        "    # Output\n",
        "    z_output = z.copy()\n",
        "          \n",
        "    return z_output, np.array(objvals)"
      ],
      "metadata": {
        "id": "KkCB9J4MaAfN"
      },
      "execution_count": null,
      "outputs": []
    },
    {
      "cell_type": "markdown",
      "source": [
        "**GD Vs NAGD**"
      ],
      "metadata": {
        "id": "OKnyb3wBRO0K"
      }
    },
    {
      "cell_type": "code",
      "source": [
        "nb_epochs = 100\n",
        "n = pblinreg.n\n",
        "d = pblinreg.d\n",
        "w0 = np.zeros(d)\n",
        "\n",
        "learning_rate = 0.01\n",
        "\n",
        "w_g, obj_g = batch_grad(w0,pblinreg, lr=learning_rate, n_iter=nb_epochs)\n",
        "w_n, obj_n = accelerated_grad(w0,pblinreg, lr=learning_rate, n_iter=nb_epochs)\n"
      ],
      "metadata": {
        "id": "AefYKVpUcr_X"
      },
      "execution_count": null,
      "outputs": []
    },
    {
      "cell_type": "code",
      "source": [
        "epochs = range(1,102)\n",
        "plt.figure(figsize=(7, 5))\n",
        "\n",
        "plt.plot(epochs, obj_g, label=\"GD\", lw=2)\n",
        "plt.plot(epochs, obj_n, label=\"NAGD\", lw=2)\n",
        "plt.title(\"Convergence plot\", fontsize=16)\n",
        "plt.xlabel(\"#epochs\", fontsize=14)\n",
        "plt.ylabel(\"Objective\", fontsize=14)\n",
        "plt.legend()\n",
        "\n",
        "plt.show()"
      ],
      "metadata": {
        "colab": {
          "base_uri": "https://localhost:8080/",
          "height": 356
        },
        "id": "b645VdB8cslN",
        "outputId": "f1981914-04c7-45a1-b59b-a015859b1c33"
      },
      "execution_count": null,
      "outputs": [
        {
          "output_type": "display_data",
          "data": {
            "image/png": "[encoded data removed]",
            "text/plain": [
              "<Figure size 504x360 with 1 Axes>"
            ]
          },
          "metadata": {
            "needs_background": "light"
          }
        }
      ]
    },
    {
      "cell_type": "markdown",
      "source": [
        "# Stochastic gradient Descent"
      ],
      "metadata": {
        "id": "ew7FdlmbQ8Bv"
      }
    },
    {
      "cell_type": "code",
      "source": [
        "def stoch_grad(w0,problem, stepchoice=0, lr= 0.01, n_iter=1000,nb=1,average=0,scaling=0,with_replace=False,verbose=False): \n",
        "    \"\"\"\n",
        "        A code for gradient descent with various step choices.\n",
        "        \n",
        "        Inputs:\n",
        "            w0: Initial vector\n",
        "            problem: Problem structure\n",
        "                problem.fun() returns the objective function, which is assumed to be a finite sum of functions\n",
        "                problem.n returns the number of components in the finite sum\n",
        "                problem.grad_i() returns the gradient of a single component f_i\n",
        "            stepchoice: Strategy for computing the stepsize \n",
        "                0: Constant step size equal to lr\n",
        "                1: Step size decreasing in lr/ stepchoice\n",
        "            lr: Learning rate\n",
        "            n_iter: Number of iterations, used as stopping criterion\n",
        "            nb: Number of components drawn per iteration/Batch size \n",
        "                1: Classical stochastic gradient algorithm (default value)\n",
        "                problem.n: Classical gradient descent (default value)\n",
        "            average: Indicates whether the method computes the average of the iterates \n",
        "                0: No averaging (default)\n",
        "                1: With averaging\n",
        "            scaling: Use a diagonal scaling\n",
        "                0: No scaling (default)\n",
        "                1: Average of magnitudes (RMSProp)\n",
        "                2: Normalization with magnitudes (Adagrad)\n",
        "            with_replace: Boolean indicating whether components are drawn with or without replacement\n",
        "                True: Components drawn with replacement\n",
        "                False: Components drawn without replacement (Default)\n",
        "            verbose: Boolean indicating whether information should be plot at every iteration (Default: False)\n",
        "            \n",
        "        Outputs:\n",
        "            w_output: Final iterate of the method (or average if average=1)\n",
        "            objvals: History of function values (Numpy array of length n_iter at most)\n",
        "    \"\"\"\n",
        "    ############\n",
        "    # Initial step: Compute and plot some initial quantities\n",
        "\n",
        "    # objective history\n",
        "    objvals = []\n",
        "    \n",
        "    # iterates distance to the minimum history\n",
        "    normits = []\n",
        "    \"\"\"\n",
        "    # Lipschitz constant\n",
        "    L = problem.lipgrad()\n",
        "    \"\"\"\n",
        "    # Number of samples\n",
        "    n = problem.n\n",
        "    \n",
        "    # Initial value of current iterate  \n",
        "    w = w0.copy()\n",
        "    nw = norm(w)\n",
        "    \n",
        "    # Average (if needed)\n",
        "    if average:\n",
        "            wavg=np.zeros(len(w))\n",
        "    \n",
        "    #Scaling values\n",
        "    if scaling>0:\n",
        "        mu=1/(2 *(n ** (0.5)))\n",
        "        v = np.zeros(d)\n",
        "        beta = 0.8\n",
        "\n",
        "    # Initialize iteration counter\n",
        "    k=0\n",
        "    \n",
        "    # Current objective\n",
        "    obj = problem.fun(w) \n",
        "    objvals.append(obj);\n",
        "\n",
        "    \n",
        "    # Plot initial quantities of interest\n",
        "    if verbose:\n",
        "        print(\"Stochastic Gradient, batch size=\",nb,\"/\",n)\n",
        "        print(' | '.join([name.center(8) for name in [\"iter\", \"MSE_Loss\"]]))\n",
        "        print(' | '.join([(\"%d\" % k).rjust(8),(\"%.2e\" % obj).rjust(8)]))\n",
        "    \n",
        "    ################\n",
        "    # Main loop\n",
        "    while (k < n_iter ):#and nw < 10**100\n",
        "        # Draw the batch indices\n",
        "        ik = np.random.choice(n,nb,replace=with_replace)# Batch gradient\n",
        "        # Stochastic gradient calculation\n",
        "        sg = np.zeros(d)\n",
        "        for j in range(nb):\n",
        "            gi = problem.grad_i(ik[j],w)\n",
        "            sg = sg + gi\n",
        "        sg = (1/nb)*sg\n",
        "        \n",
        "        if scaling>0:\n",
        "            if scaling==1:\n",
        "                # RMSProp update\n",
        "                v = beta*v + (1-beta)*sg*sg\n",
        "            elif scaling==2:\n",
        "                # Adagrad update\n",
        "                v = v + sg*sg \n",
        "            sg = sg/(np.sqrt(v+mu))\n",
        "\n",
        "        \n",
        "           \n",
        "        if stepchoice==0:\n",
        "            w[:] = w - lr * sg\n",
        "        elif stepchoice>0:\n",
        "          if (k*nb*10) % n == 0:\n",
        "            sk = float(lr/stepchoice)\n",
        "            w[:] = w - sk * sg\n",
        "        \n",
        "        nw = norm(w) #Computing the norm to measure divergence \n",
        "        \n",
        "        if average:\n",
        "            # If average, compute the average of the iterates\n",
        "            wavg = k/(k+1) *wavg + w/(k+1) \n",
        "            obj = problem.fun(wavg)\n",
        "        else:\n",
        "            obj = problem.fun(w)\n",
        "        \n",
        "       \n",
        "        \n",
        "        k += 1\n",
        "        # Plot quantities of interest at the end of every epoch only\n",
        "        if k % int(n/nb) == 0:\n",
        "            objvals.append(obj)\n",
        "            if verbose:\n",
        "                print(' | '.join([(\"%d\" % k).rjust(8),(\"%.2e\" % obj).rjust(8)]))     \n",
        "    \n",
        "    # End of main loop\n",
        "    #################\n",
        "    \n",
        "    # Plot quantities of interest for the last iterate (if needed)\n",
        "    if (k*nb) % n > 0:\n",
        "        objvals.append(obj)\n",
        "        if verbose:\n",
        "            print(' | '.join([(\"%d\" % k).rjust(8),(\"%.2e\" % obj).rjust(8)]))              \n",
        "    \n",
        "    # Outputs\n",
        "    if average:\n",
        "        w_output = wavg.copy()\n",
        "    else:\n",
        "        w_output = w.copy()\n",
        "    \n",
        "    return w_output, np.array(objvals)"
      ],
      "metadata": {
        "id": "4h6JRoCrfjh9"
      },
      "execution_count": null,
      "outputs": []
    },
    {
      "cell_type": "markdown",
      "source": [
        "**Constant Vs Decreasing LR**"
      ],
      "metadata": {
        "id": "G6a01Vhgt-gI"
      }
    },
    {
      "cell_type": "code",
      "source": [
        "nb_epochs = 60\n",
        "n = pblinreg.n\n",
        "d = pblinreg.d\n",
        "w0 = np.zeros(d)\n",
        "\n",
        "# Run a - GD with constant stepsize\n",
        "w_a, obj_a = stoch_grad(w0,pblinreg, n_iter=nb_epochs,nb=n)\n",
        "\n",
        "\n",
        "# Run b - Stochastic gradient with constant stepsize\n",
        "# The version below may diverges, in which case the bound on norm(w) in the code will be triggered\n",
        "w_b, obj_b = stoch_grad(w0,pblinreg, lr=0.0001, n_iter=nb_epochs*n,nb=1)\n",
        "\n",
        "# Run Gradient descent with decreasing stepsize\n",
        "w_c, obj_c = stoch_grad(w0,pblinreg, stepchoice=0.5, lr=0.2, n_iter=nb_epochs,nb=n)\n",
        "# Run Stochastic gradient with decreasing stepsize\n",
        "w_d, obj_d = stoch_grad(w0,pblinreg, stepchoice=0.5, lr=0.2, n_iter=nb_epochs*n,nb=1)"
      ],
      "metadata": {
        "id": "p1999OWGfkV3"
      },
      "execution_count": null,
      "outputs": []
    },
    {
      "cell_type": "code",
      "source": [
        "epochs = range(1,62)\n",
        "\n",
        "plt.figure(figsize=(7, 5))\n",
        "plt.plot(epochs, obj_a, label=\"GD - const-lbda\", lw=2)\n",
        "plt.plot(epochs, obj_b, label=\"SG - const-lbda\", lw=2)\n",
        "plt.plot(epochs, obj_c, label=\"GD - decr-lbda\", lw=2)\n",
        "plt.plot(epochs, obj_d, label=\"SG - decr-lbda\", lw=2)\n",
        "plt.title(\"Convergence plot\", fontsize=16)\n",
        "plt.xlabel(\"#epochs\", fontsize=14)\n",
        "plt.ylabel(\"Objective MSE\", fontsize=14)\n",
        "plt.legend()\n",
        "\n",
        "\n",
        "\n",
        "plt.show()"
      ],
      "metadata": {
        "colab": {
          "base_uri": "https://localhost:8080/",
          "height": 356
        },
        "id": "ZWFIMJC2wsdh",
        "outputId": "855242a0-a3c5-45de-ddad-43461c10cc39"
      },
      "execution_count": null,
      "outputs": [
        {
          "output_type": "display_data",
          "data": {
            "image/png": "[encoded data removed]",
            "text/plain": [
              "<Figure size 504x360 with 1 Axes>"
            ]
          },
          "metadata": {
            "needs_background": "light"
          }
        }
      ]
    },
    {
      "cell_type": "markdown",
      "source": [
        "**Different Constant LR**"
      ],
      "metadata": {
        "id": "XHwEdIsnt3zz"
      }
    },
    {
      "cell_type": "code",
      "source": [
        "nb_epochs = 60\n",
        "n = pblinreg.n\n",
        "d = pblinreg.d\n",
        "w0 = np.zeros(d)\n",
        "valsstep0 = [0.01,0.001,0.0001,0.00001]\n",
        "nvals = len(valsstep0)\n",
        "\n",
        "objs = np.zeros((nvals,nb_epochs+1))\n",
        "\n",
        "for val in range(nvals):\n",
        "    w_temp, objs_temp = stoch_grad(w0,pblinreg, lr=valsstep0[val], n_iter=nb_epochs*n,nb=1)\n",
        "    objs[val] = objs_temp"
      ],
      "metadata": {
        "id": "t0Yfd7zLy8za"
      },
      "execution_count": null,
      "outputs": []
    },
    {
      "cell_type": "code",
      "source": [
        "plt.figure(figsize=(7, 5))\n",
        "\n",
        "for val in range(nvals):\n",
        "    plt.plot(epochs, objs[val], label=\"SG - \"+str(valsstep0[val]), lw=2)\n",
        "plt.title(\"Convergence plot\", fontsize=16)\n",
        "plt.xlabel(\"#epochs\", fontsize=14)\n",
        "plt.ylabel(\"Objective\", fontsize=14)\n",
        "plt.legend()\n",
        "\n",
        "plt.show()"
      ],
      "metadata": {
        "colab": {
          "base_uri": "https://localhost:8080/",
          "height": 356
        },
        "id": "4iM4On_vTa7y",
        "outputId": "237b7f57-4216-4518-bfb7-0b721d661a7d"
      },
      "execution_count": null,
      "outputs": [
        {
          "output_type": "display_data",
          "data": {
            "image/png": "[encoded data removed]",
            "text/plain": [
              "<Figure size 504x360 with 1 Axes>"
            ]
          },
          "metadata": {
            "needs_background": "light"
          }
        }
      ]
    },
    {
      "cell_type": "markdown",
      "source": [
        "**Different decreasing LR**"
      ],
      "metadata": {
        "id": "kZ2F4KnItu5B"
      }
    },
    {
      "cell_type": "code",
      "source": [
        "nb_epochs = 60\n",
        "n = pblinreg.n\n",
        "nbset = 1\n",
        "w0 = np.zeros(d)\n",
        "\n",
        "decstep = [1,2,10,20,100]\n",
        "nvals = len(decstep)\n",
        "\n",
        "objs = np.zeros((nvals,nb_epochs+1))\n",
        "\n",
        "for val in range(nvals):\n",
        "    _, objs[val] = stoch_grad(w0,pblinreg,stepchoice=decstep[val],lr=0.02, n_iter=nb_epochs*n,nb=1)\n",
        "\n"
      ],
      "metadata": {
        "id": "2Xvr51KgXdTe"
      },
      "execution_count": null,
      "outputs": []
    },
    {
      "cell_type": "code",
      "source": [
        "plt.figure(figsize=(7, 5))\n",
        "\n",
        "for val in range(nvals):\n",
        "    plt.semilogy(epochs, objs[val], label=\"SG - \"+str(decstep[val]), lw=2)\n",
        "plt.title(\"Convergence plot\", fontsize=16)\n",
        "plt.xlabel(\"#epochs\", fontsize=14)\n",
        "plt.ylabel(\"Objective\", fontsize=14)\n",
        "plt.legend()\n",
        "\n",
        "plt.show()"
      ],
      "metadata": {
        "colab": {
          "base_uri": "https://localhost:8080/",
          "height": 356
        },
        "id": "7uoGGZ1qYgve",
        "outputId": "84b4d181-16dd-48eb-9d99-83be8b3e3476"
      },
      "execution_count": null,
      "outputs": [
        {
          "output_type": "display_data",
          "data": {
            "image/png": "[encoded data removed]",
            "text/plain": [
              "<Figure size 504x360 with 1 Axes>"
            ]
          },
          "metadata": {
            "needs_background": "light"
          }
        }
      ]
    },
    {
      "cell_type": "markdown",
      "source": [
        "**Different Batch size**"
      ],
      "metadata": {
        "id": "IVUe1iUWho11"
      }
    },
    {
      "cell_type": "code",
      "source": [
        "nb_epochs = 100\n",
        "n = pblinreg.n\n",
        "w0 = np.zeros(d)\n",
        "\n",
        "\n",
        "\n",
        "# Stochastic gradient (batch size 1)\n",
        "w_a, obj_a= stoch_grad(w0,pblinreg, lr=0.0001, n_iter=nb_epochs*n,nb=1)\n",
        "# Batch stochastic gradient (batch size n/100)\n",
        "nbset=int(n/100)\n",
        "w_b, obj_b = stoch_grad(w0,pblinreg, lr=0.0001, n_iter=nb_epochs*100,nb=nbset)\n",
        "# Batch stochastic gradient (batch size n/10)\n",
        "nbset=int(n/10)\n",
        "w_c, obj_c = stoch_grad(w0,pblinreg, lr=0.0001, n_iter=int(nb_epochs*10),nb=nbset)\n",
        "# Batch stochastic gradient (batch size n/2)\n",
        "nbset=int(n/2)\n",
        "w_d, obj_d = stoch_grad(w0,pblinreg, lr=0.0001, n_iter=int(nb_epochs*2),nb=nbset)\n",
        "\n",
        "# Gradient descent (batch size n, taken without replacement)\n",
        "w_f, obj_f = stoch_grad(w0,pblinreg, lr=0.0001, n_iter=int(nb_epochs),nb=n)"
      ],
      "metadata": {
        "id": "d74iZ3y6ZM_y"
      },
      "execution_count": null,
      "outputs": []
    },
    {
      "cell_type": "code",
      "source": [
        "nbset=int(n/100)\n",
        "w_b, obj_b = stoch_grad(w0,pblinreg, lr=0.0001, n_iter=int(nb_epochs*100),nb=nbset,verbose=True)\n",
        "print(len(obj_b))"
      ],
      "metadata": {
        "id": "1JNgY1D9eect"
      },
      "execution_count": null,
      "outputs": []
    },
    {
      "cell_type": "code",
      "source": [
        "epochs = range(1,102)\n",
        "plt.figure(figsize=(7, 5))\n",
        "plt.semilogy(epochs, obj_a, label=\"SG (batch=1)\", lw=2)\n",
        "plt.semilogy(epochs, obj_b,  label=\"Batch SG - n/100\", lw=2)\n",
        "plt.semilogy(epochs, obj_c,  label=\"Batch SG - n/10\", lw=2)\n",
        "plt.semilogy(epochs, obj_d,  label=\"Batch SG - n/2\", lw=2)\n",
        "plt.semilogy(epochs, obj_f,  label=\"GD\", lw=2)\n",
        "plt.title(\"Convergence plot\", fontsize=16)\n",
        "plt.xlabel(\"#epochs\", fontsize=14)\n",
        "plt.ylabel(\"Objective\", fontsize=14)\n",
        "plt.legend()\n",
        "plt.show()"
      ],
      "metadata": {
        "colab": {
          "base_uri": "https://localhost:8080/",
          "height": 356
        },
        "id": "SULBRTq-qDgy",
        "outputId": "9e7a3a8c-95ce-4f20-fcfd-7922d9f08c6a"
      },
      "execution_count": null,
      "outputs": [
        {
          "output_type": "display_data",
          "data": {
            "image/png": "[encoded data removed]",
            "text/plain": [
              "<Figure size 504x360 with 1 Axes>"
            ]
          },
          "metadata": {
            "needs_background": "light"
          }
        }
      ]
    },
    {
      "cell_type": "code",
      "source": [
        "plt.figure(figsize=(7, 5))\n",
        "plt.plot(epochs, obj_a, label=\"SG (batch=1)\", lw=2)\n",
        "plt.plot(epochs, obj_b,  label=\"Batch SG - n/100\", lw=2)\n",
        "plt.plot(epochs, obj_c,  label=\"Batch SG - n/10\", lw=2)\n",
        "plt.plot(epochs, obj_d,  label=\"Batch SG - n/2\", lw=2)\n",
        "plt.plot(epochs, obj_f,  label=\"GD\", lw=2)\n",
        "plt.title(\"Convergence plot\", fontsize=16)\n",
        "plt.xlabel(\"#epochs\", fontsize=14)\n",
        "plt.ylabel(\"Objective\", fontsize=14)\n",
        "plt.legend()\n",
        "plt.show()"
      ],
      "metadata": {
        "colab": {
          "base_uri": "https://localhost:8080/",
          "height": 356
        },
        "id": "_fhPKRBta3x6",
        "outputId": "5288c9f1-8b54-4c96-f0f1-09a5ded567c8"
      },
      "execution_count": null,
      "outputs": [
        {
          "output_type": "display_data",
          "data": {
            "image/png": "[encoded data removed]",
            "text/plain": [
              "<Figure size 504x360 with 1 Axes>"
            ]
          },
          "metadata": {
            "needs_background": "light"
          }
        }
      ]
    },
    {
      "cell_type": "code",
      "source": [
        ""
      ],
      "metadata": {
        "id": "gBtkzCgpbgBV"
      },
      "execution_count": null,
      "outputs": []
    },
    {
      "cell_type": "markdown",
      "source": [
        "# Other variants for SGD"
      ],
      "metadata": {
        "id": "lj3-SW3MbhI1"
      }
    },
    {
      "cell_type": "markdown",
      "source": [
        "**batch with replacement**"
      ],
      "metadata": {
        "id": "85Gk2vwatncT"
      }
    },
    {
      "cell_type": "code",
      "source": [
        "#Batch with replacement for GD, SGD and Batch SGD\n",
        "nb_epochs = 100\n",
        "n = pblinreg.n\n",
        "w0 = np.zeros(d)\n",
        "\n",
        "nruns = 3\n",
        "\n",
        "for i in range(nruns):\n",
        "    # Run standard stochastic gradient (batch size 1)\n",
        "    _, obj_a= stoch_grad(w0,pblinreg, lr=0.0001, n_iter=nb_epochs*n,nb=1,with_replace=True)\n",
        "    # Batch stochastic gradient (batch size n/10)\n",
        "    nbset=int(n/2)\n",
        "    _, obj_b= stoch_grad(w0,pblinreg, lr=0.0001, n_iter=int(nb_epochs*n/nbset),nb=nbset,with_replace=True)\n",
        "    # Batch stochastic gradient (batch size n, with replacement)\n",
        "    nbset=n\n",
        "    _, obj_c=stoch_grad(w0,pblinreg, lr=0.0001, n_iter=int(nb_epochs*n/nbset),nb=nbset,with_replace=True)\n",
        "    if i<nruns-1:\n",
        "        plt.semilogy(obj_a,color='orange',lw=2)\n",
        "        plt.semilogy(obj_b,color='green', lw=2)\n",
        "        plt.semilogy(obj_c,color='blue', lw=2)\n",
        "plt.semilogy(obj_a,label=\"SG\",color='orange',lw=2)\n",
        "plt.semilogy(obj_b,label=\"batch n/2\",color='green', lw=2)\n",
        "plt.semilogy(obj_c,label=\"batch n\",color='blue', lw=2)    \n",
        "\n",
        "plt.title(\"Convergence plot\", fontsize=16)\n",
        "plt.xlabel(\"#epochs \", fontsize=14)\n",
        "plt.ylabel(\"Objective \", fontsize=14)\n",
        "plt.legend()"
      ],
      "metadata": {
        "colab": {
          "base_uri": "https://localhost:8080/",
          "height": 319
        },
        "id": "9J1BFPy7bjtJ",
        "outputId": "94cc5ab2-89de-4db8-fd3b-d6ff297edac2"
      },
      "execution_count": null,
      "outputs": [
        {
          "output_type": "execute_result",
          "data": {
            "text/plain": [
              "<matplotlib.legend.Legend at 0x7f3864c86550>"
            ]
          },
          "metadata": {},
          "execution_count": 118
        },
        {
          "output_type": "display_data",
          "data": {
            "image/png": "[encoded data removed]",
            "text/plain": [
              "<Figure size 432x288 with 1 Axes>"
            ]
          },
          "metadata": {
            "needs_background": "light"
          }
        }
      ]
    },
    {
      "cell_type": "markdown",
      "source": [
        "**Averaging**"
      ],
      "metadata": {
        "id": "VTrSlacEtghA"
      }
    },
    {
      "cell_type": "code",
      "source": [
        "# Comparison of stochastic gradient with and without averaging\n",
        "nb_epochs = 100\n",
        "n = pblinreg.n\n",
        "w0 = np.zeros(d)\n",
        "\n",
        "\n",
        "    # Run standard stochastic gradient without averaging\n",
        "_, obj_a =stoch_grad(w0,pblinreg, lr=0.0001, n_iter=nb_epochs*n,nb=1)\n",
        "    # Run stochastic gradient with averaging\n",
        "_, obj_b =stoch_grad(w0,pblinreg, lr=0.0001, n_iter=nb_epochs*n,nb=1,average=1)\n",
        "\n",
        "# Plot the results\n",
        "plt.figure(figsize=(7, 5))\n",
        "\n",
        "plt.semilogy(obj_a,label='SG',color='orange',lw=2)\n",
        "plt.semilogy(obj_b,label='SG+averaging',color='red', lw=2)\n",
        "    \n",
        "plt.title(\"Convergence plot\", fontsize=16)\n",
        "plt.xlabel(\"#epochs (log scale)\", fontsize=14)\n",
        "plt.ylabel(\"Objective (log scale)\", fontsize=14)\n",
        "plt.legend()"
      ],
      "metadata": {
        "colab": {
          "base_uri": "https://localhost:8080/",
          "height": 374
        },
        "id": "yEEFlPeBrXs5",
        "outputId": "c2e80d49-e820-4782-f8f6-934c0223deac"
      },
      "execution_count": null,
      "outputs": [
        {
          "output_type": "execute_result",
          "data": {
            "text/plain": [
              "<matplotlib.legend.Legend at 0x7f385784a250>"
            ]
          },
          "metadata": {},
          "execution_count": 120
        },
        {
          "output_type": "display_data",
          "data": {
            "image/png": "[encoded data removed]",
            "text/plain": [
              "<Figure size 504x360 with 1 Axes>"
            ]
          },
          "metadata": {
            "needs_background": "light"
          }
        }
      ]
    },
    {
      "cell_type": "markdown",
      "source": [
        "**Diagonal Scaling**"
      ],
      "metadata": {
        "id": "37tQYhsZtc4O"
      }
    },
    {
      "cell_type": "code",
      "source": [
        "# Comparison of stochastic gradient with and without diagonal scaling\n",
        "\n",
        "nb_epochs = 60\n",
        "n = pblinreg.n\n",
        "w0 = np.zeros(d)\n",
        "\n",
        "# Stochastic gradient (batch size 1) without diagonal scaling\n",
        "w_a, obj_a= stoch_grad(w0,pblinreg, lr=0.0001, n_iter=nb_epochs*n,nb=1)\n",
        "# Stochastic gradient (batch size 1) with RMSProp diagonal scaling\n",
        "w_b, obj_b = stoch_grad(w0,pblinreg, lr=0.0001, n_iter=nb_epochs*n,nb=1,average=0,scaling=1)\n",
        "# Stochastic gradient (batch size 1) with Adagrad diagonal scaling - Constant step size\n",
        "w_c, obj_c = stoch_grad(w0,pblinreg, lr=0.0001, n_iter=nb_epochs*n,nb=1,average=0,scaling=2)\n",
        "# Stochastic gradient (batch size 1) with Adagrad diagonal scaling - Decreasing step size\n",
        "w_d, obj_d = stoch_grad(w0,pblinreg, lr=0.0001, n_iter=nb_epochs*n,nb=1,average=0,scaling=2)"
      ],
      "metadata": {
        "id": "OAVBwC8xshb-"
      },
      "execution_count": null,
      "outputs": []
    },
    {
      "cell_type": "code",
      "source": [
        "# Plot the results - Comparison of stochastic gradient with and without diagonal scaling\n",
        "# In terms of objective value (logarithmic scale)\n",
        "plt.figure(figsize=(7, 5))\n",
        "plt.semilogy(obj_a, label=\"SG\", lw=2)\n",
        "plt.semilogy(obj_b, label=\"SG/RMSProp\", lw=2)\n",
        "plt.semilogy(obj_c, label=\"SG/Adagrad (Cst)\", lw=2)\n",
        "plt.semilogy(obj_d, label=\"SG/Adagrad (Dec)\", lw=2)\n",
        "plt.title(\"Convergence plot\", fontsize=16)\n",
        "plt.xlabel(\"#epochs (log scale)\", fontsize=14)\n",
        "plt.ylabel(\"Objective (log scale)\", fontsize=14)\n",
        "plt.legend()\n",
        "plt.show"
      ],
      "metadata": {
        "colab": {
          "base_uri": "https://localhost:8080/",
          "height": 374
        },
        "id": "BNRIkxGYsrzr",
        "outputId": "c9d8bce2-ea8c-4732-de13-58f97288c9dc"
      },
      "execution_count": null,
      "outputs": [
        {
          "output_type": "execute_result",
          "data": {
            "text/plain": [
              "<function matplotlib.pyplot.show>"
            ]
          },
          "metadata": {},
          "execution_count": 122
        },
        {
          "output_type": "display_data",
          "data": {
            "image/png": "[encoded data removed]",
            "text/plain": [
              "<Figure size 504x360 with 1 Axes>"
            ]
          },
          "metadata": {
            "needs_background": "light"
          }
        }
      ]
    },
    {
      "cell_type": "markdown",
      "source": [
        "# Regression (Lasso with iterative soft thersholding)"
      ],
      "metadata": {
        "id": "DEWPnuvpuF5D"
      }
    },
    {
      "cell_type": "markdown",
      "source": [
        "**Lasso regression with ISTA**"
      ],
      "metadata": {
        "id": "_IaFNWmayWXT"
      }
    },
    {
      "cell_type": "code",
      "source": [
        "#Minimization fucntion with l1 norm (Lasso regression)\n",
        "def cost(w, X, y, lbda):\n",
        "  return np.square(X.dot(w) - y).mean() + lbda * norm(w,1) "
      ],
      "metadata": {
        "id": "P5bBQNJJAb3q"
      },
      "execution_count": null,
      "outputs": []
    },
    {
      "cell_type": "code",
      "source": [
        "def ista_solve(  A, d, lbdaa ):\n",
        "    \"\"\"\n",
        "     Iterative soft-thresholding solves the minimization problem\n",
        "     Minimize |Ax-d|_2^2 + lambda*|x|_1 (Lasso regression)\n",
        "    \"\"\"\n",
        "    max_iter = 300\n",
        "    objvals = []\n",
        "    tol = 10**(-3)\n",
        "    tau = 1.5/np.linalg.norm(A,2)**2\n",
        "    n = A.shape[1]\n",
        "    w = np.zeros((n,1))\n",
        "    for j in range(max_iter):\n",
        "      z = w - tau*(A.T@(A@w-d))\n",
        "      w_old = w\n",
        "      w = np.sign(z) * np.maximum(np.abs(z)-tau*lbdaa,  np.zeros(z.shape))\n",
        "      if j % 100 == 0:\n",
        "        obj = cost(w,A,d,lbdaa)\n",
        "        objvals.append(obj)\n",
        "      if np.linalg.norm(w - w_old) < tol:\n",
        "        break\n",
        "    return w, objvals"
      ],
      "metadata": {
        "id": "-fygHv7z2o4n"
      },
      "execution_count": null,
      "outputs": []
    },
    {
      "cell_type": "code",
      "source": [
        "#we iterate over multiple values of lambda\n",
        "lmbdas = [0.000001, 0.000002, 0.00001, 0.00002, 0.0001, 0.0002, 0.001, 0.002, 0.01, 0.02, 0.1, 0.2, 1, 2, 10, 20]\n",
        "mse_list=[]\n",
        "for lda in lmbdas:\n",
        "  w_star, obj_x = ista_solve_hot( x_train, y_train, lda)\n",
        "  mse_list.append(obj_x[-1])"
      ],
      "metadata": {
        "id": "ePGW2c163s0G"
      },
      "execution_count": null,
      "outputs": []
    },
    {
      "cell_type": "code",
      "source": [
        "x_range = range(1,len(lmbdas)+1)\n",
        "plt.figure(figsize=(7, 5))\n",
        "plt.plot(x_range,mse_list, label=\"Lasso-ISTA\", lw=2)\n",
        "\n",
        "plt.title(\"Best Lambda factor\", fontsize=16)\n",
        "plt.xlabel(\"Lambda\", fontsize=14)\n",
        "plt.xticks(np.arange(len(lmbdas)),lmbdas,rotation=40)\n",
        "plt.ylabel(\"Objective Lasso reg\", fontsize=14)\n",
        "plt.legend()\n",
        "plt.show()"
      ],
      "metadata": {
        "colab": {
          "base_uri": "https://localhost:8080/",
          "height": 376
        },
        "id": "QOWKLE_35fwk",
        "outputId": "7a5bd7d5-3ce3-4e0f-8396-59b0382921c9"
      },
      "execution_count": null,
      "outputs": [
        {
          "output_type": "display_data",
          "data": {
            "image/png": "[encoded data removed]",
            "text/plain": [
              "<Figure size 504x360 with 1 Axes>"
            ]
          },
          "metadata": {
            "needs_background": "light"
          }
        }
      ]
    },
    {
      "cell_type": "code",
      "source": [
        "w_star, obj_x = ista_solve_hot( x_train, y_train, 0.00001)"
      ],
      "metadata": {
        "id": "aa68ub-nRFPg"
      },
      "execution_count": null,
      "outputs": []
    },
    {
      "cell_type": "markdown",
      "source": [
        "# Performance on Test set"
      ],
      "metadata": {
        "id": "IW7i_LuySSMW"
      }
    },
    {
      "cell_type": "code",
      "source": [
        "#MSE on lasso-ISTA\n",
        "cost(w_star, x_valid, y_valid, 0.00001)"
      ],
      "metadata": {
        "colab": {
          "base_uri": "https://localhost:8080/"
        },
        "id": "vfh49VCkQ_nj",
        "outputId": "f60daa35-771a-480c-efae-4f3027b4df1c"
      },
      "execution_count": null,
      "outputs": [
        {
          "output_type": "execute_result",
          "data": {
            "text/plain": [
              "1.843311215168409"
            ]
          },
          "metadata": {},
          "execution_count": 226
        }
      ]
    },
    {
      "cell_type": "code",
      "source": [
        "# MSE on best sgd algo\n",
        "cost(w_b, x_valid, y_valid, 0.00001)"
      ],
      "metadata": {
        "colab": {
          "base_uri": "https://localhost:8080/"
        },
        "id": "BfzjQ7ahUI_a",
        "outputId": "11798516-798b-48dd-ca52-f60abd0a11bb"
      },
      "execution_count": null,
      "outputs": [
        {
          "output_type": "execute_result",
          "data": {
            "text/plain": [
              "5.750756538528328"
            ]
          },
          "metadata": {},
          "execution_count": 227
        }
      ]
    }
  ]
}